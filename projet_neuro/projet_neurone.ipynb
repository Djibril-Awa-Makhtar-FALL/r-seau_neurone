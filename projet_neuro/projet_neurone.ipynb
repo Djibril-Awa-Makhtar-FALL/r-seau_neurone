{
 "cells": [
  {
   "cell_type": "code",
   "execution_count": 770,
   "id": "3e6087ea-1313-480e-b4c9-5b84b86095b4",
   "metadata": {},
   "outputs": [],
   "source": [
    "import pandas as pd\n",
    "import numpy as np\n",
    "#import matplotlib.pyplot as plt\n",
    "%matplotlib inline\n",
    "import seaborn as sns\n",
    "from sklearn.preprocessing import LabelEncoder\n",
    "import ydata_profiling\n",
    "from sklearn.preprocessing import StandardScaler, OneHotEncoder\n",
    "from sklearn.model_selection import train_test_split, GridSearchCV\n",
    "from sklearn.compose import ColumnTransformer\n",
    "from sklearn.pipeline import Pipeline\n",
    "from sklearn.model_selection import train_test_split\n",
    "from sklearn.ensemble import RandomForestRegressor\n",
    "from sklearn.metrics import mean_squared_error, r2_score\n",
    "from sklearn.metrics import mean_squared_error, mean_absolute_error, r2_score"
   ]
  },
  {
   "cell_type": "code",
   "execution_count": 772,
   "id": "6b01d61e-a3b6-4707-b597-bd12569e369e",
   "metadata": {},
   "outputs": [],
   "source": [
    "# Charger le fichier CSV\n",
    "df = pd.read_csv(\"winequalityN.csv\")"
   ]
  },
  {
   "cell_type": "code",
   "execution_count": 774,
   "id": "3e020189-fe6e-491b-9406-85236699d1ac",
   "metadata": {},
   "outputs": [
    {
     "name": "stdout",
     "output_type": "stream",
     "text": [
      "    type  fixed acidity  volatile acidity  citric acid  residual sugar  \\\n",
      "0  white            7.0              0.27         0.36            20.7   \n",
      "1  white            6.3              0.30         0.34             1.6   \n",
      "2  white            8.1              0.28         0.40             6.9   \n",
      "3  white            7.2              0.23         0.32             8.5   \n",
      "4  white            7.2              0.23         0.32             8.5   \n",
      "\n",
      "   chlorides  free sulfur dioxide  total sulfur dioxide  density    pH  \\\n",
      "0      0.045                 45.0                 170.0   1.0010  3.00   \n",
      "1      0.049                 14.0                 132.0   0.9940  3.30   \n",
      "2      0.050                 30.0                  97.0   0.9951  3.26   \n",
      "3      0.058                 47.0                 186.0   0.9956  3.19   \n",
      "4      0.058                 47.0                 186.0   0.9956  3.19   \n",
      "\n",
      "   sulphates  alcohol  quality  \n",
      "0       0.45      8.8        6  \n",
      "1       0.49      9.5        6  \n",
      "2       0.44     10.1        6  \n",
      "3       0.40      9.9        6  \n",
      "4       0.40      9.9        6  \n"
     ]
    }
   ],
   "source": [
    "# Afficher l'en-tete\n",
    "print(df.head())"
   ]
  },
  {
   "cell_type": "code",
   "execution_count": 776,
   "id": "9d2470f1-80fd-4ab5-b7f4-3eaca0637042",
   "metadata": {},
   "outputs": [
    {
     "name": "stdout",
     "output_type": "stream",
     "text": [
      "<class 'pandas.core.frame.DataFrame'>\n",
      "RangeIndex: 6497 entries, 0 to 6496\n",
      "Data columns (total 13 columns):\n",
      " #   Column                Non-Null Count  Dtype  \n",
      "---  ------                --------------  -----  \n",
      " 0   type                  6497 non-null   object \n",
      " 1   fixed acidity         6487 non-null   float64\n",
      " 2   volatile acidity      6489 non-null   float64\n",
      " 3   citric acid           6494 non-null   float64\n",
      " 4   residual sugar        6495 non-null   float64\n",
      " 5   chlorides             6495 non-null   float64\n",
      " 6   free sulfur dioxide   6497 non-null   float64\n",
      " 7   total sulfur dioxide  6497 non-null   float64\n",
      " 8   density               6497 non-null   float64\n",
      " 9   pH                    6488 non-null   float64\n",
      " 10  sulphates             6493 non-null   float64\n",
      " 11  alcohol               6497 non-null   float64\n",
      " 12  quality               6497 non-null   int64  \n",
      "dtypes: float64(11), int64(1), object(1)\n",
      "memory usage: 660.0+ KB\n",
      "None\n"
     ]
    }
   ],
   "source": [
    "# Afficher les informations générales\n",
    "print(df.info())"
   ]
  },
  {
   "cell_type": "code",
   "execution_count": 266,
   "id": "fbdd19b7-74bc-4d9c-b932-2a9e974eb6a0",
   "metadata": {},
   "outputs": [
    {
     "data": {
      "application/vnd.jupyter.widget-view+json": {
       "model_id": "fb42b8b43cc34b2988e5dff35fe67e48",
       "version_major": 2,
       "version_minor": 0
      },
      "text/plain": [
       "Summarize dataset:   0%|          | 0/5 [00:00<?, ?it/s]"
      ]
     },
     "metadata": {},
     "output_type": "display_data"
    },
    {
     "data": {
      "application/vnd.jupyter.widget-view+json": {
       "model_id": "8e8901dc7ccd4f41b779e2ba0e4929ca",
       "version_major": 2,
       "version_minor": 0
      },
      "text/plain": [
       "Generate report structure:   0%|          | 0/1 [00:00<?, ?it/s]"
      ]
     },
     "metadata": {},
     "output_type": "display_data"
    },
    {
     "data": {
      "application/vnd.jupyter.widget-view+json": {
       "model_id": "72c7d237d3ec4115a39a08f2669b5017",
       "version_major": 2,
       "version_minor": 0
      },
      "text/plain": [
       "Render HTML:   0%|          | 0/1 [00:00<?, ?it/s]"
      ]
     },
     "metadata": {},
     "output_type": "display_data"
    }
   ],
   "source": [
    "# Créer le rapport de profilage\n",
    "profile = ProfileReport(df, title=\"Profiling Report for Wine Quality\", explorative=True)\n",
    "# Afficher le rapport dans un Jupyter Notebook (facultatif)\n",
    "profile.to_notebook_iframe()"
   ]
  },
  {
   "cell_type": "code",
   "execution_count": 778,
   "id": "2d107034-f145-4e9a-babe-95b9c6003d7e",
   "metadata": {},
   "outputs": [
    {
     "data": {
      "text/plain": [
       "1168"
      ]
     },
     "execution_count": 778,
     "metadata": {},
     "output_type": "execute_result"
    }
   ],
   "source": [
    "# Vérifier s'il y a des doublons\n",
    "df_supprim = df.duplicated().sum()\n",
    "df_supprim"
   ]
  },
  {
   "cell_type": "code",
   "execution_count": 780,
   "id": "4a3cba90-b393-4e43-8ecc-e12532a7670f",
   "metadata": {},
   "outputs": [
    {
     "data": {
      "text/html": [
       "<div>\n",
       "<style scoped>\n",
       "    .dataframe tbody tr th:only-of-type {\n",
       "        vertical-align: middle;\n",
       "    }\n",
       "\n",
       "    .dataframe tbody tr th {\n",
       "        vertical-align: top;\n",
       "    }\n",
       "\n",
       "    .dataframe thead th {\n",
       "        text-align: right;\n",
       "    }\n",
       "</style>\n",
       "<table border=\"1\" class=\"dataframe\">\n",
       "  <thead>\n",
       "    <tr style=\"text-align: right;\">\n",
       "      <th></th>\n",
       "      <th>type</th>\n",
       "      <th>fixed acidity</th>\n",
       "      <th>volatile acidity</th>\n",
       "      <th>citric acid</th>\n",
       "      <th>residual sugar</th>\n",
       "      <th>chlorides</th>\n",
       "      <th>free sulfur dioxide</th>\n",
       "      <th>total sulfur dioxide</th>\n",
       "      <th>density</th>\n",
       "      <th>pH</th>\n",
       "      <th>sulphates</th>\n",
       "      <th>alcohol</th>\n",
       "      <th>quality</th>\n",
       "    </tr>\n",
       "  </thead>\n",
       "  <tbody>\n",
       "    <tr>\n",
       "      <th>0</th>\n",
       "      <td>white</td>\n",
       "      <td>7.0</td>\n",
       "      <td>0.270</td>\n",
       "      <td>0.36</td>\n",
       "      <td>20.7</td>\n",
       "      <td>0.045</td>\n",
       "      <td>45.0</td>\n",
       "      <td>170.0</td>\n",
       "      <td>1.00100</td>\n",
       "      <td>3.00</td>\n",
       "      <td>0.45</td>\n",
       "      <td>8.8</td>\n",
       "      <td>6</td>\n",
       "    </tr>\n",
       "    <tr>\n",
       "      <th>1</th>\n",
       "      <td>white</td>\n",
       "      <td>6.3</td>\n",
       "      <td>0.300</td>\n",
       "      <td>0.34</td>\n",
       "      <td>1.6</td>\n",
       "      <td>0.049</td>\n",
       "      <td>14.0</td>\n",
       "      <td>132.0</td>\n",
       "      <td>0.99400</td>\n",
       "      <td>3.30</td>\n",
       "      <td>0.49</td>\n",
       "      <td>9.5</td>\n",
       "      <td>6</td>\n",
       "    </tr>\n",
       "    <tr>\n",
       "      <th>2</th>\n",
       "      <td>white</td>\n",
       "      <td>8.1</td>\n",
       "      <td>0.280</td>\n",
       "      <td>0.40</td>\n",
       "      <td>6.9</td>\n",
       "      <td>0.050</td>\n",
       "      <td>30.0</td>\n",
       "      <td>97.0</td>\n",
       "      <td>0.99510</td>\n",
       "      <td>3.26</td>\n",
       "      <td>0.44</td>\n",
       "      <td>10.1</td>\n",
       "      <td>6</td>\n",
       "    </tr>\n",
       "    <tr>\n",
       "      <th>3</th>\n",
       "      <td>white</td>\n",
       "      <td>7.2</td>\n",
       "      <td>0.230</td>\n",
       "      <td>0.32</td>\n",
       "      <td>8.5</td>\n",
       "      <td>0.058</td>\n",
       "      <td>47.0</td>\n",
       "      <td>186.0</td>\n",
       "      <td>0.99560</td>\n",
       "      <td>3.19</td>\n",
       "      <td>0.40</td>\n",
       "      <td>9.9</td>\n",
       "      <td>6</td>\n",
       "    </tr>\n",
       "    <tr>\n",
       "      <th>6</th>\n",
       "      <td>white</td>\n",
       "      <td>6.2</td>\n",
       "      <td>0.320</td>\n",
       "      <td>0.16</td>\n",
       "      <td>7.0</td>\n",
       "      <td>0.045</td>\n",
       "      <td>30.0</td>\n",
       "      <td>136.0</td>\n",
       "      <td>0.99490</td>\n",
       "      <td>3.18</td>\n",
       "      <td>0.47</td>\n",
       "      <td>9.6</td>\n",
       "      <td>6</td>\n",
       "    </tr>\n",
       "    <tr>\n",
       "      <th>...</th>\n",
       "      <td>...</td>\n",
       "      <td>...</td>\n",
       "      <td>...</td>\n",
       "      <td>...</td>\n",
       "      <td>...</td>\n",
       "      <td>...</td>\n",
       "      <td>...</td>\n",
       "      <td>...</td>\n",
       "      <td>...</td>\n",
       "      <td>...</td>\n",
       "      <td>...</td>\n",
       "      <td>...</td>\n",
       "      <td>...</td>\n",
       "    </tr>\n",
       "    <tr>\n",
       "      <th>6491</th>\n",
       "      <td>red</td>\n",
       "      <td>6.8</td>\n",
       "      <td>0.620</td>\n",
       "      <td>0.08</td>\n",
       "      <td>1.9</td>\n",
       "      <td>0.068</td>\n",
       "      <td>28.0</td>\n",
       "      <td>38.0</td>\n",
       "      <td>0.99651</td>\n",
       "      <td>3.42</td>\n",
       "      <td>0.82</td>\n",
       "      <td>9.5</td>\n",
       "      <td>6</td>\n",
       "    </tr>\n",
       "    <tr>\n",
       "      <th>6492</th>\n",
       "      <td>red</td>\n",
       "      <td>6.2</td>\n",
       "      <td>0.600</td>\n",
       "      <td>0.08</td>\n",
       "      <td>2.0</td>\n",
       "      <td>0.090</td>\n",
       "      <td>32.0</td>\n",
       "      <td>44.0</td>\n",
       "      <td>0.99490</td>\n",
       "      <td>3.45</td>\n",
       "      <td>0.58</td>\n",
       "      <td>10.5</td>\n",
       "      <td>5</td>\n",
       "    </tr>\n",
       "    <tr>\n",
       "      <th>6493</th>\n",
       "      <td>red</td>\n",
       "      <td>5.9</td>\n",
       "      <td>0.550</td>\n",
       "      <td>0.10</td>\n",
       "      <td>2.2</td>\n",
       "      <td>0.062</td>\n",
       "      <td>39.0</td>\n",
       "      <td>51.0</td>\n",
       "      <td>0.99512</td>\n",
       "      <td>3.52</td>\n",
       "      <td>NaN</td>\n",
       "      <td>11.2</td>\n",
       "      <td>6</td>\n",
       "    </tr>\n",
       "    <tr>\n",
       "      <th>6495</th>\n",
       "      <td>red</td>\n",
       "      <td>5.9</td>\n",
       "      <td>0.645</td>\n",
       "      <td>0.12</td>\n",
       "      <td>2.0</td>\n",
       "      <td>0.075</td>\n",
       "      <td>32.0</td>\n",
       "      <td>44.0</td>\n",
       "      <td>0.99547</td>\n",
       "      <td>3.57</td>\n",
       "      <td>0.71</td>\n",
       "      <td>10.2</td>\n",
       "      <td>5</td>\n",
       "    </tr>\n",
       "    <tr>\n",
       "      <th>6496</th>\n",
       "      <td>red</td>\n",
       "      <td>6.0</td>\n",
       "      <td>0.310</td>\n",
       "      <td>0.47</td>\n",
       "      <td>3.6</td>\n",
       "      <td>0.067</td>\n",
       "      <td>18.0</td>\n",
       "      <td>42.0</td>\n",
       "      <td>0.99549</td>\n",
       "      <td>3.39</td>\n",
       "      <td>0.66</td>\n",
       "      <td>11.0</td>\n",
       "      <td>6</td>\n",
       "    </tr>\n",
       "  </tbody>\n",
       "</table>\n",
       "<p>5329 rows × 13 columns</p>\n",
       "</div>"
      ],
      "text/plain": [
       "       type  fixed acidity  volatile acidity  citric acid  residual sugar  \\\n",
       "0     white            7.0             0.270         0.36            20.7   \n",
       "1     white            6.3             0.300         0.34             1.6   \n",
       "2     white            8.1             0.280         0.40             6.9   \n",
       "3     white            7.2             0.230         0.32             8.5   \n",
       "6     white            6.2             0.320         0.16             7.0   \n",
       "...     ...            ...               ...          ...             ...   \n",
       "6491    red            6.8             0.620         0.08             1.9   \n",
       "6492    red            6.2             0.600         0.08             2.0   \n",
       "6493    red            5.9             0.550         0.10             2.2   \n",
       "6495    red            5.9             0.645         0.12             2.0   \n",
       "6496    red            6.0             0.310         0.47             3.6   \n",
       "\n",
       "      chlorides  free sulfur dioxide  total sulfur dioxide  density    pH  \\\n",
       "0         0.045                 45.0                 170.0  1.00100  3.00   \n",
       "1         0.049                 14.0                 132.0  0.99400  3.30   \n",
       "2         0.050                 30.0                  97.0  0.99510  3.26   \n",
       "3         0.058                 47.0                 186.0  0.99560  3.19   \n",
       "6         0.045                 30.0                 136.0  0.99490  3.18   \n",
       "...         ...                  ...                   ...      ...   ...   \n",
       "6491      0.068                 28.0                  38.0  0.99651  3.42   \n",
       "6492      0.090                 32.0                  44.0  0.99490  3.45   \n",
       "6493      0.062                 39.0                  51.0  0.99512  3.52   \n",
       "6495      0.075                 32.0                  44.0  0.99547  3.57   \n",
       "6496      0.067                 18.0                  42.0  0.99549  3.39   \n",
       "\n",
       "      sulphates  alcohol  quality  \n",
       "0          0.45      8.8        6  \n",
       "1          0.49      9.5        6  \n",
       "2          0.44     10.1        6  \n",
       "3          0.40      9.9        6  \n",
       "6          0.47      9.6        6  \n",
       "...         ...      ...      ...  \n",
       "6491       0.82      9.5        6  \n",
       "6492       0.58     10.5        5  \n",
       "6493        NaN     11.2        6  \n",
       "6495       0.71     10.2        5  \n",
       "6496       0.66     11.0        6  \n",
       "\n",
       "[5329 rows x 13 columns]"
      ]
     },
     "execution_count": 780,
     "metadata": {},
     "output_type": "execute_result"
    }
   ],
   "source": [
    "# Supprimer les doublons\n",
    "new_df = df.drop_duplicates()\n",
    "new_df"
   ]
  },
  {
   "cell_type": "code",
   "execution_count": 782,
   "id": "7fb60bf3-5c3c-4fb6-9081-5ab9cf899a8d",
   "metadata": {},
   "outputs": [
    {
     "name": "stdout",
     "output_type": "stream",
     "text": [
      "Valeurs manquantes par colonne :\n",
      "fixed acidity       10\n",
      "volatile acidity     8\n",
      "citric acid          3\n",
      "residual sugar       2\n",
      "chlorides            2\n",
      "pH                   9\n",
      "sulphates            4\n",
      "dtype: int64\n"
     ]
    }
   ],
   "source": [
    "# Identifier les valeurs manquantes\n",
    "missing_values = df.isnull().sum()\n",
    "print(\"Valeurs manquantes par colonne :\")\n",
    "print(missing_values[missing_values > 0])"
   ]
  },
  {
   "cell_type": "code",
   "execution_count": 784,
   "id": "f57be705-fd6a-43e2-9cda-acffc6027e13",
   "metadata": {},
   "outputs": [],
   "source": [
    "############# Remplacer les valeurs manquantes par la moyenne puisque les manquantes sont de type numérique"
   ]
  },
  {
   "cell_type": "code",
   "execution_count": 786,
   "id": "d121fe2d-9967-4b3a-8b51-60f4179c34a6",
   "metadata": {},
   "outputs": [],
   "source": [
    "# Calculer la moyenne de la colonne fixed acidity\n",
    "new_df.loc[:, 'fixed acidity'] = new_df['fixed acidity'].mean()\n",
    "# Remplacer les valeurs manquantes par la moyenne\n",
    "new_df.loc[:, 'fixed acidity'] = new_df['fixed acidity'].mean()"
   ]
  },
  {
   "cell_type": "code",
   "execution_count": 788,
   "id": "1e088741-35f1-44b4-848e-b8165f8949b4",
   "metadata": {},
   "outputs": [],
   "source": [
    "# Calculer la moyenne de la colonne citric acid\n",
    "new_df.loc[:, 'citric acid'] = new_df['citric acid'].mean()\n",
    "# Remplacer les valeurs manquantes par la moyenne\n",
    "new_df.loc[:, 'citric acid'] = new_df['citric acid'].mean()"
   ]
  },
  {
   "cell_type": "code",
   "execution_count": 790,
   "id": "33472988-7d5a-4f91-9381-616e142977e9",
   "metadata": {},
   "outputs": [],
   "source": [
    "# Calculer la moyenne de la colonne residual sugar\n",
    "new_df.loc[:, 'residual sugar'] = new_df['residual sugar'].mean()\n",
    "# Remplacer les valeurs manquantes par la moyenne\n",
    "new_df.loc[:, 'residual sugar'] = new_df['residual sugar'].mean()"
   ]
  },
  {
   "cell_type": "code",
   "execution_count": 792,
   "id": "1068a0ed-8021-46a1-9465-4acdb9832db6",
   "metadata": {},
   "outputs": [],
   "source": [
    "# Calculer la moyenne de la colonne volatile acidity\n",
    "new_df.loc[:, 'volatile acidity'] = new_df['volatile acidity'].mean()\n",
    "# Remplacer les valeurs manquantes par la moyenne\n",
    "new_df.loc[:, 'volatile acidity'] = new_df['volatile acidity'].mean()"
   ]
  },
  {
   "cell_type": "code",
   "execution_count": 794,
   "id": "4e9c2e6d-607d-4a5e-9825-fef8c2e1b5ff",
   "metadata": {},
   "outputs": [],
   "source": [
    "# Calculer la moyenne de la colonne chlorides\n",
    "new_df.loc[:, 'chlorides'] = new_df['chlorides'].mean()\n",
    "# Remplacer les valeurs manquantes par la moyenne\n",
    "new_df.loc[:, 'chlorides'] = new_df['chlorides'].mean()"
   ]
  },
  {
   "cell_type": "code",
   "execution_count": 796,
   "id": "f2798e26-6217-4236-a8d2-01566d06dbb4",
   "metadata": {},
   "outputs": [],
   "source": [
    "# Calculer la moyenne de la colonne pH \n",
    "new_df.loc[:, 'pH'] = new_df['pH'].mean()\n",
    "# Remplacer les valeurs manquantes par la moyenne\n",
    "new_df.loc[:, 'pH'] = new_df['pH'].mean()"
   ]
  },
  {
   "cell_type": "code",
   "execution_count": 798,
   "id": "5ed804bb-985a-4c86-bee3-31fd8d29d814",
   "metadata": {},
   "outputs": [],
   "source": [
    "# Calculer la moyenne de la colonne sulphates\n",
    "new_df.loc[:, 'sulphates'] = new_df['sulphates'].mean()\n",
    "# Remplacer les valeurs manquantes par la moyenne\n",
    "new_df.loc[:, 'sulphates'] = new_df['sulphates'].mean()              "
   ]
  },
  {
   "cell_type": "code",
   "execution_count": 800,
   "id": "f6c22339-1da4-42db-bd4d-54e15e4c1589",
   "metadata": {},
   "outputs": [
    {
     "name": "stdout",
     "output_type": "stream",
     "text": [
      "\n",
      "DataFrame après gestion des valeurs manquantes :\n",
      "    type  fixed acidity  volatile acidity  citric acid  residual sugar  \\\n",
      "0  white       7.216573          0.344123     0.318738        5.053839   \n",
      "1  white       7.216573          0.344123     0.318738        5.053839   \n",
      "2  white       7.216573          0.344123     0.318738        5.053839   \n",
      "3  white       7.216573          0.344123     0.318738        5.053839   \n",
      "6  white       7.216573          0.344123     0.318738        5.053839   \n",
      "\n",
      "   chlorides  free sulfur dioxide  total sulfur dioxide  density        pH  \\\n",
      "0   0.056668                 45.0                 170.0   1.0010  3.224434   \n",
      "1   0.056668                 14.0                 132.0   0.9940  3.224434   \n",
      "2   0.056668                 30.0                  97.0   0.9951  3.224434   \n",
      "3   0.056668                 47.0                 186.0   0.9956  3.224434   \n",
      "6   0.056668                 30.0                 136.0   0.9949  3.224434   \n",
      "\n",
      "   sulphates  alcohol  quality  \n",
      "0   0.533268      8.8        6  \n",
      "1   0.533268      9.5        6  \n",
      "2   0.533268     10.1        6  \n",
      "3   0.533268      9.9        6  \n",
      "6   0.533268      9.6        6  \n"
     ]
    }
   ],
   "source": [
    "# Afficher le DataFrame après traitement\n",
    "print(\"\\nDataFrame après gestion des valeurs manquantes :\")\n",
    "print(new_df.head())"
   ]
  },
  {
   "cell_type": "code",
   "execution_count": 802,
   "id": "3c106ad1-ac95-4662-ad06-c8a2d0c58688",
   "metadata": {},
   "outputs": [],
   "source": [
    "#Normaliser les données numériques\n",
    "# Séparer les caractéristiques et la cible\n",
    "X = new_df.drop(columns=['quality'])  # Caractéristiques\n",
    "y = new_df['quality']                 # Cible"
   ]
  },
  {
   "cell_type": "code",
   "execution_count": 804,
   "id": "2ccc3c81-7fea-4eb0-991b-2f3c47720f98",
   "metadata": {},
   "outputs": [],
   "source": [
    "numeric_features = X.select_dtypes(include=['float64', 'int']).columns\n",
    "scaler = StandardScaler()"
   ]
  },
  {
   "cell_type": "code",
   "execution_count": 806,
   "id": "f2701e61-182a-453a-9318-3e139095e933",
   "metadata": {},
   "outputs": [
    {
     "name": "stdout",
     "output_type": "stream",
     "text": [
      "      type  fixed acidity  volatile acidity  citric acid  residual sugar  \\\n",
      "0        1       7.216573          0.344123     0.318738        5.053839   \n",
      "1        1       7.216573          0.344123     0.318738        5.053839   \n",
      "2        1       7.216573          0.344123     0.318738        5.053839   \n",
      "3        1       7.216573          0.344123     0.318738        5.053839   \n",
      "6        1       7.216573          0.344123     0.318738        5.053839   \n",
      "...    ...            ...               ...          ...             ...   \n",
      "6491     0       7.216573          0.344123     0.318738        5.053839   \n",
      "6492     0       7.216573          0.344123     0.318738        5.053839   \n",
      "6493     0       7.216573          0.344123     0.318738        5.053839   \n",
      "6495     0       7.216573          0.344123     0.318738        5.053839   \n",
      "6496     0       7.216573          0.344123     0.318738        5.053839   \n",
      "\n",
      "      chlorides  free sulfur dioxide  total sulfur dioxide  density        pH  \\\n",
      "0      0.056668                 45.0                 170.0  1.00100  3.224434   \n",
      "1      0.056668                 14.0                 132.0  0.99400  3.224434   \n",
      "2      0.056668                 30.0                  97.0  0.99510  3.224434   \n",
      "3      0.056668                 47.0                 186.0  0.99560  3.224434   \n",
      "6      0.056668                 30.0                 136.0  0.99490  3.224434   \n",
      "...         ...                  ...                   ...      ...       ...   \n",
      "6491   0.056668                 28.0                  38.0  0.99651  3.224434   \n",
      "6492   0.056668                 32.0                  44.0  0.99490  3.224434   \n",
      "6493   0.056668                 39.0                  51.0  0.99512  3.224434   \n",
      "6495   0.056668                 32.0                  44.0  0.99547  3.224434   \n",
      "6496   0.056668                 18.0                  42.0  0.99549  3.224434   \n",
      "\n",
      "      sulphates  alcohol  quality  \n",
      "0      0.533268      8.8        6  \n",
      "1      0.533268      9.5        6  \n",
      "2      0.533268     10.1        6  \n",
      "3      0.533268      9.9        6  \n",
      "6      0.533268      9.6        6  \n",
      "...         ...      ...      ...  \n",
      "6491   0.533268      9.5        6  \n",
      "6492   0.533268     10.5        5  \n",
      "6493   0.533268     11.2        6  \n",
      "6495   0.533268     10.2        5  \n",
      "6496   0.533268     11.0        6  \n",
      "\n",
      "[5329 rows x 13 columns]\n"
     ]
    },
    {
     "name": "stderr",
     "output_type": "stream",
     "text": [
      "C:\\Users\\DELL\\AppData\\Local\\Temp\\ipykernel_21028\\3162670279.py:9: SettingWithCopyWarning: \n",
      "A value is trying to be set on a copy of a slice from a DataFrame.\n",
      "Try using .loc[row_indexer,col_indexer] = value instead\n",
      "\n",
      "See the caveats in the documentation: https://pandas.pydata.org/pandas-docs/stable/user_guide/indexing.html#returning-a-view-versus-a-copy\n",
      "  new_df[col] = label_encoder.fit_transform(new_df[col])\n"
     ]
    }
   ],
   "source": [
    "# Identifier les colonnes catégoriques\n",
    "categorical_cols = new_df.select_dtypes(include=['object']).columns\n",
    "\n",
    "# Initialiser le LabelEncoder\n",
    "label_encoder = LabelEncoder()\n",
    "\n",
    "# Encoder toutes les colonnes catégoriques\n",
    "for col in categorical_cols:\n",
    "    new_df[col] = label_encoder.fit_transform(new_df[col])\n",
    "\n",
    "# Afficher le DataFrame encodé\n",
    "print(new_df)"
   ]
  },
  {
   "cell_type": "code",
   "execution_count": 808,
   "id": "0bd231a9-c51f-4c4f-bbd6-d64d818b4a90",
   "metadata": {},
   "outputs": [],
   "source": [
    "# Créer un préprocesseur\n",
    "preprocessor = ColumnTransformer(\n",
    "    transformers=[\n",
    "        ('num', scaler, numeric_features),\n",
    "        ('cat', encoder, categorical_features)\n",
    "    ])"
   ]
  },
  {
   "cell_type": "code",
   "execution_count": 810,
   "id": "fdd79cf7-154f-4d13-8889-2410d376c455",
   "metadata": {},
   "outputs": [
    {
     "name": "stdout",
     "output_type": "stream",
     "text": [
      "Caractéristiques traitées :\n",
      "[[ 2.66453526e-15  0.00000000e+00  5.55111512e-17  0.00000000e+00\n",
      "   0.00000000e+00  8.38662155e-01  9.82995741e-01  2.17988317e+00\n",
      "   0.00000000e+00  0.00000000e+00 -1.47428830e+00]\n",
      " [ 2.66453526e-15  0.00000000e+00  5.55111512e-17  0.00000000e+00\n",
      "   0.00000000e+00 -9.01550361e-01  3.13699964e-01 -1.80714192e-01\n",
      "   0.00000000e+00  0.00000000e+00 -8.84080175e-01]\n",
      " [ 2.66453526e-15  0.00000000e+00  5.55111512e-17  0.00000000e+00\n",
      "   0.00000000e+00 -3.37615913e-03 -3.02756673e-01  1.90236822e-01\n",
      "   0.00000000e+00  0.00000000e+00 -3.78187500e-01]\n",
      " [ 2.66453526e-15  0.00000000e+00  5.55111512e-17  0.00000000e+00\n",
      "   0.00000000e+00  9.50933931e-01  1.26480449e+00  3.58850919e-01\n",
      "   0.00000000e+00  0.00000000e+00 -5.46818392e-01]\n",
      " [ 2.66453526e-15  0.00000000e+00  5.55111512e-17  0.00000000e+00\n",
      "   0.00000000e+00 -3.37615913e-03  3.84152151e-01  1.22791183e-01\n",
      "   0.00000000e+00  0.00000000e+00 -7.99764729e-01]]\n"
     ]
    }
   ],
   "source": [
    "# Appliquer le prétraitement\n",
    "X_processed = preprocessor.fit_transform(X)\n",
    "\n",
    "# Afficher le DataFrame après nettoyage et traitement\n",
    "print(\"Caractéristiques traitées :\")\n",
    "print(X_processed[:5])  "
   ]
  },
  {
   "cell_type": "code",
   "execution_count": 814,
   "id": "dcaddebb-0772-481c-a857-c29db48e7f46",
   "metadata": {},
   "outputs": [],
   "source": [
    "#Création de nouvelles caractéristiques\n",
    "\n",
    "# Interaction entre l'acidité fixe et l'acidité volatile\n",
    "new_df.loc[:, 'fixed_volatile_interaction'] = new_df['fixed acidity'] * new_df['volatile acidity']\n",
    "# Proportion de sucre résiduel par rapport à l'acidité fixe\n",
    "new_df.loc[:, 'residual_sugar_to_fixed_acidity'] = new_df['residual sugar'] / (new_df['fixed acidity'] + 1e-6) "
   ]
  },
  {
   "cell_type": "code",
   "execution_count": 820,
   "id": "700919ab-03ec-442e-897e-b77636f09c23",
   "metadata": {},
   "outputs": [],
   "source": [
    "# Indicateur binaire pour le taux d'alcool élevé (au-dessus de 10)\n",
    "new_df.loc[:, 'high_alcohol'] = (new_df['alcohol'] > 10).astype(int)"
   ]
  },
  {
   "cell_type": "code",
   "execution_count": 822,
   "id": "89b34b5f-8b87-466d-af5b-e96750d8f2ca",
   "metadata": {},
   "outputs": [
    {
     "name": "stderr",
     "output_type": "stream",
     "text": [
      "C:\\Users\\DELL\\AppData\\Local\\Temp\\ipykernel_21028\\769199657.py:4: SettingWithCopyWarning: \n",
      "A value is trying to be set on a copy of a slice from a DataFrame.\n",
      "Try using .loc[row_indexer,col_indexer] = value instead\n",
      "\n",
      "See the caveats in the documentation: https://pandas.pydata.org/pandas-docs/stable/user_guide/indexing.html#returning-a-view-versus-a-copy\n",
      "  new_df.loc[:, 'log_residual_sugar'] = np.log1p(new_df['residual sugar'])  # log(1+x) pour éviter les valeurs négatives\n"
     ]
    }
   ],
   "source": [
    " #Transformation des caractéristiques\n",
    "\n",
    "# Transformation logarithmique pour le sucre résiduel\n",
    "new_df.loc[:, 'log_residual_sugar'] = np.log1p(new_df['residual sugar'])  # log(1+x) pour éviter les valeurs négatives"
   ]
  },
  {
   "cell_type": "code",
   "execution_count": 824,
   "id": "74d8ba0c-c7d8-42da-8aa9-690bd3274b32",
   "metadata": {},
   "outputs": [
    {
     "name": "stderr",
     "output_type": "stream",
     "text": [
      "C:\\Users\\DELL\\AppData\\Local\\Temp\\ipykernel_21028\\3924142327.py:2: SettingWithCopyWarning: \n",
      "A value is trying to be set on a copy of a slice from a DataFrame.\n",
      "Try using .loc[row_indexer,col_indexer] = value instead\n",
      "\n",
      "See the caveats in the documentation: https://pandas.pydata.org/pandas-docs/stable/user_guide/indexing.html#returning-a-view-versus-a-copy\n",
      "  new_df.loc[:, 'normalized_pH'] = (new_df['pH'] - new_df['pH'].mean()) / new_df['pH'].std()\n"
     ]
    }
   ],
   "source": [
    "# Normalisation des caractéristiques (par exemple, pH)\n",
    "new_df.loc[:, 'normalized_pH'] = (new_df['pH'] - new_df['pH'].mean()) / new_df['pH'].std()"
   ]
  },
  {
   "cell_type": "code",
   "execution_count": 826,
   "id": "0a5a5f81-c4eb-440f-a894-5bd46998977e",
   "metadata": {},
   "outputs": [
    {
     "name": "stdout",
     "output_type": "stream",
     "text": [
      "Caractéristiques après transformation :\n",
      "   type  fixed acidity  volatile acidity  citric acid  residual sugar  \\\n",
      "0     1       7.216573          0.344123     0.318738        5.053839   \n",
      "1     1       7.216573          0.344123     0.318738        5.053839   \n",
      "2     1       7.216573          0.344123     0.318738        5.053839   \n",
      "3     1       7.216573          0.344123     0.318738        5.053839   \n",
      "6     1       7.216573          0.344123     0.318738        5.053839   \n",
      "\n",
      "   chlorides  free sulfur dioxide  total sulfur dioxide  density        pH  \\\n",
      "0   0.056668                 45.0                 170.0   1.0010  3.224434   \n",
      "1   0.056668                 14.0                 132.0   0.9940  3.224434   \n",
      "2   0.056668                 30.0                  97.0   0.9951  3.224434   \n",
      "3   0.056668                 47.0                 186.0   0.9956  3.224434   \n",
      "6   0.056668                 30.0                 136.0   0.9949  3.224434   \n",
      "\n",
      "   sulphates  alcohol  quality  fixed_volatile_interaction  \\\n",
      "0   0.533268      8.8        6                    2.483391   \n",
      "1   0.533268      9.5        6                    2.483391   \n",
      "2   0.533268     10.1        6                    2.483391   \n",
      "3   0.533268      9.9        6                    2.483391   \n",
      "6   0.533268      9.6        6                    2.483391   \n",
      "\n",
      "   residual_sugar_to_fixed_acidity  high_alcohol  log_residual_sugar  \\\n",
      "0                          0.70031             0            1.800693   \n",
      "1                          0.70031             0            1.800693   \n",
      "2                          0.70031             1            1.800693   \n",
      "3                          0.70031             0            1.800693   \n",
      "6                          0.70031             0            1.800693   \n",
      "\n",
      "   normalized_pH  \n",
      "0            0.0  \n",
      "1            0.0  \n",
      "2            0.0  \n",
      "3            0.0  \n",
      "6            0.0  \n"
     ]
    }
   ],
   "source": [
    "# Afficher les nouvelles caractéristiques\n",
    "print(\"Caractéristiques après transformation :\")\n",
    "print(new_df.head())"
   ]
  },
  {
   "cell_type": "code",
   "execution_count": 828,
   "id": "240c4606-92da-4bd1-865e-cd0dcadab6c9",
   "metadata": {},
   "outputs": [
    {
     "name": "stderr",
     "output_type": "stream",
     "text": [
      "C:\\Users\\DELL\\AppData\\Local\\Temp\\ipykernel_21028\\2308665677.py:2: SettingWithCopyWarning: \n",
      "A value is trying to be set on a copy of a slice from a DataFrame.\n",
      "Try using .loc[row_indexer,col_indexer] = value instead\n",
      "\n",
      "See the caveats in the documentation: https://pandas.pydata.org/pandas-docs/stable/user_guide/indexing.html#returning-a-view-versus-a-copy\n",
      "  new_df.loc[:, 'alcohol_acidity_interaction'] = new_df['alcohol'] * new_df['fixed acidity']\n",
      "C:\\Users\\DELL\\AppData\\Local\\Temp\\ipykernel_21028\\2308665677.py:5: SettingWithCopyWarning: \n",
      "A value is trying to be set on a copy of a slice from a DataFrame.\n",
      "Try using .loc[row_indexer,col_indexer] = value instead\n",
      "\n",
      "See the caveats in the documentation: https://pandas.pydata.org/pandas-docs/stable/user_guide/indexing.html#returning-a-view-versus-a-copy\n",
      "  new_df.loc[:, 'high_chlorides'] = (new_df['chlorides'] > 0.05).astype(int)\n"
     ]
    }
   ],
   "source": [
    "#Combinaisons de caractéristiques\n",
    "new_df.loc[:, 'alcohol_acidity_interaction'] = new_df['alcohol'] * new_df['fixed acidity']\n",
    "\n",
    "#Caractéristiques basées sur des seuils\n",
    "new_df.loc[:, 'high_chlorides'] = (new_df['chlorides'] > 0.05).astype(int)"
   ]
  },
  {
   "cell_type": "code",
   "execution_count": 830,
   "id": "9598dbf2-a140-45a9-9923-8fd89d7c0a2e",
   "metadata": {},
   "outputs": [
    {
     "name": "stderr",
     "output_type": "stream",
     "text": [
      "C:\\Users\\DELL\\AppData\\Local\\Temp\\ipykernel_21028\\2301550349.py:2: SettingWithCopyWarning: \n",
      "A value is trying to be set on a copy of a slice from a DataFrame.\n",
      "Try using .loc[row_indexer,col_indexer] = value instead\n",
      "\n",
      "See the caveats in the documentation: https://pandas.pydata.org/pandas-docs/stable/user_guide/indexing.html#returning-a-view-versus-a-copy\n",
      "  new_df.loc[:, 'sugar_acidity_ratio'] = new_df['residual sugar'] / (new_df['fixed acidity'] + 1e-6)\n",
      "C:\\Users\\DELL\\AppData\\Local\\Temp\\ipykernel_21028\\2301550349.py:4: SettingWithCopyWarning: \n",
      "A value is trying to be set on a copy of a slice from a DataFrame.\n",
      "Try using .loc[row_indexer,col_indexer] = value instead\n",
      "\n",
      "See the caveats in the documentation: https://pandas.pydata.org/pandas-docs/stable/user_guide/indexing.html#returning-a-view-versus-a-copy\n",
      "  new_df.loc[:, 'acidity_category'] = pd.cut(new_df['fixed acidity'], bins=[0, 5, 7, 15], labels=[\"Low\", \"Medium\", \"High\"])\n"
     ]
    }
   ],
   "source": [
    "#caractéristiques basées sur des relations\n",
    "new_df.loc[:, 'sugar_acidity_ratio'] = new_df['residual sugar'] / (new_df['fixed acidity'] + 1e-6)\n",
    "#Binning\n",
    "new_df.loc[:, 'acidity_category'] = pd.cut(new_df['fixed acidity'], bins=[0, 5, 7, 15], labels=[\"Low\", \"Medium\", \"High\"])"
   ]
  },
  {
   "cell_type": "code",
   "execution_count": 832,
   "id": "21a28eb7-b4a9-44c5-a9e0-aabb8f31f55d",
   "metadata": {},
   "outputs": [],
   "source": [
    "# Transformations logiques\n",
    "new_df.loc[:, 'log_residual_sugar'] = np.log1p(new_df['residual sugar'])"
   ]
  },
  {
   "cell_type": "code",
   "execution_count": 834,
   "id": "a5984b68-aa95-4d5f-a9d7-ce96ca99f44c",
   "metadata": {},
   "outputs": [
    {
     "name": "stdout",
     "output_type": "stream",
     "text": [
      "Caractéristiques après transformation :\n",
      "   alcohol_acidity_interaction  high_chlorides  sugar_acidity_ratio  \\\n",
      "0                    63.505839               1              0.70031   \n",
      "1                    68.557440               1              0.70031   \n",
      "2                    72.887384               1              0.70031   \n",
      "3                    71.444069               1              0.70031   \n",
      "6                    69.279098               1              0.70031   \n",
      "\n",
      "  acidity_category  log_residual_sugar  \n",
      "0             High            1.800693  \n",
      "1             High            1.800693  \n",
      "2             High            1.800693  \n",
      "3             High            1.800693  \n",
      "6             High            1.800693  \n"
     ]
    }
   ],
   "source": [
    "# Afficher les nouvelles caractéristiques\n",
    "print(\"Caractéristiques après transformation :\")\n",
    "print(new_df[['alcohol_acidity_interaction', 'high_chlorides', 'sugar_acidity_ratio', 'acidity_category', 'log_residual_sugar']].head())"
   ]
  },
  {
   "cell_type": "code",
   "execution_count": 836,
   "id": "1a198b5f-0da6-4593-895b-0dc8045f0d87",
   "metadata": {},
   "outputs": [],
   "source": [
    "# Encoder acidity_category\n",
    "#new_df.loc[:, 'acidity_category'] = label_encoder.fit_transform(new_df['acidity_category'])\n",
    "\n",
    "# Afficher le DataFrame encodé\n",
    "#print(\"DataFrame après encodage :\")\n",
    "#print(new_df)"
   ]
  },
  {
   "cell_type": "code",
   "execution_count": 838,
   "id": "95e91dab-1744-4dcb-991f-a59a016a6f91",
   "metadata": {},
   "outputs": [],
   "source": [
    "################## Utilisez des techniques de visualisation des données pour obtenir des informations sur votre jeu de données.###############"
   ]
  },
  {
   "cell_type": "code",
   "execution_count": 840,
   "id": "9b33708c-bd9a-40de-a261-d4002a4eeff6",
   "metadata": {},
   "outputs": [
    {
     "name": "stdout",
     "output_type": "stream",
     "text": [
      "Utilisation d'un histogramme pour visualiser la distribution du taux d'alcool, ce qui vous permet de voir sa répartition et d'identifier d'éventuelles anomalies.\n"
     ]
    }
   ],
   "source": [
    "######################## Distribution des caractéristiques :###########################\n",
    "print(\"Utilisation d'un histogramme pour visualiser la distribution du taux d'alcool, ce qui vous permet de voir sa répartition et d'identifier d'éventuelles anomalies.\")"
   ]
  },
  {
   "cell_type": "code",
   "execution_count": 842,
   "id": "8e7cff1c-c927-44b0-b337-4ea0bfb8a321",
   "metadata": {},
   "outputs": [
    {
     "data": {
      "text/plain": [
       "<Figure size 1000x600 with 0 Axes>"
      ]
     },
     "metadata": {},
     "output_type": "display_data"
    },
    {
     "data": {
      "text/plain": [
       "<Figure size 1000x600 with 0 Axes>"
      ]
     },
     "metadata": {},
     "output_type": "display_data"
    },
    {
     "data": {
      "image/png": "[encoded data removed]",
      "text/plain": [
       "<Figure size 1200x600 with 1 Axes>"
      ]
     },
     "metadata": {},
     "output_type": "display_data"
    }
   ],
   "source": [
    "# 1. Visualiser la distribution des caractéristiques\n",
    "plt.figure(figsize=(12, 6))\n",
    "sns.histplot(new_df['alcohol'], bins=30, kde=True)\n",
    "plt.title('Distribution du Taux d\\'Alcool')\n",
    "plt.xlabel('Taux d\\'Alcool')\n",
    "plt.ylabel('Fréquence')\n",
    "plt.show()"
   ]
  },
  {
   "cell_type": "code",
   "execution_count": 844,
   "id": "3d17f1d2-9be1-4793-87c3-66cf8f64262f",
   "metadata": {},
   "outputs": [],
   "source": [
    "                            ###################### Matrice de corrélation ########################"
   ]
  },
  {
   "cell_type": "code",
   "execution_count": 846,
   "id": "39a2de5d-7052-4799-9e68-820d8db033d4",
   "metadata": {},
   "outputs": [
    {
     "name": "stdout",
     "output_type": "stream",
     "text": [
      "Une heatmap montre les corrélations entre les différentes caractéristiques. Les valeurs proches de 1 ou -1 indiquent une forte corrélation, tandis que les valeurs proches de 0 indiquent peu ou pas de corrélation.\n"
     ]
    }
   ],
   "source": [
    "print(\"Une heatmap montre les corrélations entre les différentes caractéristiques. Les valeurs proches de 1 ou -1 indiquent une forte corrélation, tandis que les valeurs proches de 0 indiquent peu ou pas de corrélation.\")"
   ]
  },
  {
   "cell_type": "code",
   "execution_count": 848,
   "id": "e5542561-5a4e-4a0e-91aa-a4b6cdb1245c",
   "metadata": {},
   "outputs": [
    {
     "data": {
      "image/png": "[encoded data removed]",
      "text/plain": [
       "<Figure size 1000x800 with 2 Axes>"
      ]
     },
     "metadata": {},
     "output_type": "display_data"
    }
   ],
   "source": [
    "#Analyser les corrélations\n",
    "plt.figure(figsize=(10, 8))\n",
    "#correlation_matrix = new_df.corr()  \n",
    "correlation_matrix = new_df.select_dtypes(include=['number']).corr()  #Sélectionnez uniquement les colonnes numériques\n",
    "sns.heatmap(correlation_matrix, annot=True, fmt=\".2f\", cmap='coolwarm')\n",
    "plt.title('Matrice de Corrélation')\n",
    "plt.show()"
   ]
  },
  {
   "cell_type": "code",
   "execution_count": 850,
   "id": "8f4731ef-3536-49a0-8d3a-738f8b35ad3a",
   "metadata": {},
   "outputs": [],
   "source": [
    "######################## Relation entre la qualité et d'autres caractéristiques ###############################"
   ]
  },
  {
   "cell_type": "code",
   "execution_count": 852,
   "id": "d4d7cf90-cc14-4e15-aeac-fb3f3ab19e8c",
   "metadata": {},
   "outputs": [
    {
     "name": "stdout",
     "output_type": "stream",
     "text": [
      "Un boxplot permet d'observer comment le taux d'alcool varie selon les différentes catégories de qualité. Cela peut révéler des tendances intéressantes.\n"
     ]
    }
   ],
   "source": [
    "print(\"Un boxplot permet d'observer comment le taux d'alcool varie selon les différentes catégories de qualité. Cela peut révéler des tendances intéressantes.\")"
   ]
  },
  {
   "cell_type": "code",
   "execution_count": 854,
   "id": "06d3d186-d79e-40e8-8954-9c81f2ff2f23",
   "metadata": {},
   "outputs": [
    {
     "data": {
      "image/png": "[encoded data removed]",
      "text/plain": [
       "<Figure size 1000x600 with 1 Axes>"
      ]
     },
     "metadata": {},
     "output_type": "display_data"
    }
   ],
   "source": [
    "#Relation entre la qualité et d'autres caractéristiques\n",
    "plt.figure(figsize=(10, 6))\n",
    "sns.boxplot(x='quality', y='alcohol', data=new_df)\n",
    "plt.title('Relation entre la Qualité et le Taux d\\'Alcool')\n",
    "plt.xlabel('Qualité')\n",
    "plt.ylabel('Taux d\\'Alcool')\n",
    "plt.show()"
   ]
  },
  {
   "cell_type": "code",
   "execution_count": 856,
   "id": "b1040ef7-060e-455e-a5ed-a3538f887b59",
   "metadata": {},
   "outputs": [],
   "source": [
    "######################################  Répartition des types de vin  ###################"
   ]
  },
  {
   "cell_type": "code",
   "execution_count": 858,
   "id": "6bba8326-04fe-4958-8ddf-46e4259d87c5",
   "metadata": {},
   "outputs": [
    {
     "name": "stdout",
     "output_type": "stream",
     "text": [
      "Un countplot montre la répartition des différents types de vin (par exemple, blanc ou rouge), ce qui peut être utile pour comprendre la composition de votre jeu de données\n"
     ]
    }
   ],
   "source": [
    "print(\"Un countplot montre la répartition des différents types de vin (par exemple, blanc ou rouge), ce qui peut être utile pour comprendre la composition de votre jeu de données\")"
   ]
  },
  {
   "cell_type": "code",
   "execution_count": 860,
   "id": "47e77f7c-ac26-44ec-8c8b-868dd5b22c39",
   "metadata": {},
   "outputs": [
    {
     "data": {
      "image/png": "[encoded data removed]",
      "text/plain": [
       "<Figure size 1000x600 with 1 Axes>"
      ]
     },
     "metadata": {},
     "output_type": "display_data"
    }
   ],
   "source": [
    "# Visualiser les caractéristiques catégorielles\n",
    "plt.figure(figsize=(10, 6))\n",
    "sns.countplot(x='type', data=new_df)\n",
    "plt.title('Répartition des Types de Vin')\n",
    "plt.xlabel('Type de Vin')\n",
    "plt.ylabel('Nombre de Vins')\n",
    "plt.show()"
   ]
  },
  {
   "cell_type": "code",
   "execution_count": 862,
   "id": "8c2e9ec9-aefa-4d33-9d18-8e594058bc06",
   "metadata": {},
   "outputs": [],
   "source": [
    "############ Créez des visualisations qui révèlent des motifs et des relations, facilitant votre compréhension des données.###########"
   ]
  },
  {
   "cell_type": "code",
   "execution_count": 864,
   "id": "249fe6c0-0cc7-419b-aa9c-982ba9dba3aa",
   "metadata": {},
   "outputs": [],
   "source": [
    "#########################Diagramme de dispersion entre l'alcalinité fixe et le taux d'alcool######################################"
   ]
  },
  {
   "cell_type": "code",
   "execution_count": 866,
   "id": "7f303bc9-e7d8-4ce3-b2fc-6c2aaedf3d34",
   "metadata": {},
   "outputs": [
    {
     "name": "stdout",
     "output_type": "stream",
     "text": [
      "Ce graphique montre la relation entre l'acidité fixe et le taux d'alcool, coloré par la qualité. Cela peut révéler des tendances intéressantes, telles que si des taux d'alcool plus élevés sont associés à des niveaux d'acidité spécifiques.\n"
     ]
    }
   ],
   "source": [
    "print(\"Ce graphique montre la relation entre l'acidité fixe et le taux d'alcool, coloré par la qualité. Cela peut révéler des tendances intéressantes, telles que si des taux d'alcool plus élevés sont associés à des niveaux d'acidité spécifiques.\")"
   ]
  },
  {
   "cell_type": "code",
   "execution_count": 868,
   "id": "44323a0f-f57b-4e00-bb86-4b1ca955be79",
   "metadata": {},
   "outputs": [
    {
     "data": {
      "image/png": "[encoded data removed]",
      "text/plain": [
       "<Figure size 1000x600 with 1 Axes>"
      ]
     },
     "metadata": {},
     "output_type": "display_data"
    }
   ],
   "source": [
    "plt.figure(figsize=(10, 6))\n",
    "sns.scatterplot(x='fixed acidity', y='alcohol', hue='quality', data=new_df, palette='viridis', alpha=0.7)\n",
    "plt.title('Relation entre l\\'Acidité Fixe et le Taux d\\'Alcool')\n",
    "plt.xlabel('Acidité Fixe')\n",
    "plt.ylabel('Taux d\\'Alcool')\n",
    "plt.legend(title='Qualité')\n",
    "plt.show()"
   ]
  },
  {
   "cell_type": "code",
   "execution_count": 870,
   "id": "258a5551-9a81-422d-b39f-69b98f0eb93e",
   "metadata": {},
   "outputs": [],
   "source": [
    "############################################Diagramme en violon ##################################################"
   ]
  },
  {
   "cell_type": "code",
   "execution_count": 872,
   "id": "70869fbb-afe5-4d62-a507-9a1cda7b39ca",
   "metadata": {},
   "outputs": [
    {
     "name": "stdout",
     "output_type": "stream",
     "text": [
      "Ce diagramme montre la distribution du taux d'alcool pour chaque niveau de qualité, ce qui peut aider à comprendre comment la qualité influence la distribution d'une caractéristique.\n"
     ]
    }
   ],
   "source": [
    "print(\"Ce diagramme montre la distribution du taux d'alcool pour chaque niveau de qualité, ce qui peut aider à comprendre comment la qualité influence la distribution d'une caractéristique.\")"
   ]
  },
  {
   "cell_type": "code",
   "execution_count": 874,
   "id": "9e6e885e-fa78-40af-be2c-d0e82be0d0ae",
   "metadata": {},
   "outputs": [
    {
     "name": "stderr",
     "output_type": "stream",
     "text": [
      "C:\\Users\\DELL\\AppData\\Local\\Temp\\ipykernel_21028\\3185199466.py:3: FutureWarning: \n",
      "\n",
      "Passing `palette` without assigning `hue` is deprecated and will be removed in v0.14.0. Assign the `x` variable to `hue` and set `legend=False` for the same effect.\n",
      "\n",
      "  sns.violinplot(x='quality', y='alcohol', data=new_df, inner='quartile', palette='muted')\n"
     ]
    },
    {
     "data": {
      "image/png": "[encoded data removed]",
      "text/plain": [
       "<Figure size 1000x600 with 1 Axes>"
      ]
     },
     "metadata": {},
     "output_type": "display_data"
    }
   ],
   "source": [
    "# Diagramme en violon pour la distribution du taux d'alcool par qualité\n",
    "plt.figure(figsize=(10, 6))\n",
    "sns.violinplot(x='quality', y='alcohol', data=new_df, inner='quartile', palette='muted')\n",
    "plt.title('Distribution du Taux d\\'Alcool par Qualité')\n",
    "plt.xlabel('Qualité')\n",
    "plt.ylabel('Taux d\\'Alcool')\n",
    "plt.show()"
   ]
  },
  {
   "cell_type": "code",
   "execution_count": 876,
   "id": "f198958a-4530-4e18-befd-575b1eed23ac",
   "metadata": {},
   "outputs": [],
   "source": [
    "########################################### Graphique de barres  ###########################"
   ]
  },
  {
   "cell_type": "code",
   "execution_count": 878,
   "id": "02d2b968-0266-4014-b5e0-fbd02d85da91",
   "metadata": {},
   "outputs": [
    {
     "name": "stdout",
     "output_type": "stream",
     "text": [
      "Ce graphique montre la moyenne de l'acidité fixe pour chaque type de vin, offrant une vue d'ensemble des différences entre les types de vin.\n"
     ]
    }
   ],
   "source": [
    "print(\"Ce graphique montre la moyenne de l'acidité fixe pour chaque type de vin, offrant une vue d'ensemble des différences entre les types de vin.\")"
   ]
  },
  {
   "cell_type": "code",
   "execution_count": 880,
   "id": "b1a39601-bdea-4d1b-9ed2-4cf2a4cf47e2",
   "metadata": {},
   "outputs": [
    {
     "name": "stderr",
     "output_type": "stream",
     "text": [
      "C:\\Users\\DELL\\AppData\\Local\\Temp\\ipykernel_21028\\3569436220.py:3: FutureWarning: \n",
      "\n",
      "Passing `palette` without assigning `hue` is deprecated and will be removed in v0.14.0. Assign the `x` variable to `hue` and set `legend=False` for the same effect.\n",
      "\n",
      "  sns.barplot(x='type', y='fixed acidity', data=new_df, estimator=np.mean, palette='pastel')\n"
     ]
    },
    {
     "data": {
      "image/png": "[encoded data removed]",
      "text/plain": [
       "<Figure size 1000x600 with 1 Axes>"
      ]
     },
     "metadata": {},
     "output_type": "display_data"
    }
   ],
   "source": [
    "#Graphique de barres pour les moyennes de l'acidité fixe par type de vin\n",
    "plt.figure(figsize=(10, 6))\n",
    "sns.barplot(x='type', y='fixed acidity', data=new_df, estimator=np.mean, palette='pastel')\n",
    "plt.title('Moyenne de l\\'Acidité Fixe par Type de Vin')\n",
    "plt.xlabel('Type de Vin')\n",
    "plt.ylabel('Acidité Fixe (Moyenne)')\n",
    "plt.show()"
   ]
  },
  {
   "cell_type": "code",
   "execution_count": 882,
   "id": "9cb7fbeb-19a8-435c-ae1a-eb2601f66fba",
   "metadata": {},
   "outputs": [],
   "source": [
    "########################################## Choisissez le bon modèle en fonction de la nature de votre problème. ###############################"
   ]
  },
  {
   "cell_type": "code",
   "execution_count": 884,
   "id": "e5ddaf48-307f-4d41-b76e-a3496239ea33",
   "metadata": {},
   "outputs": [
    {
     "name": "stdout",
     "output_type": "stream",
     "text": [
      "La régression linéaire et ses variantes (comme la régression polynomiale) sont efficaces si vous soupçonnez que des relations linéaires (ou légèrement non linéaires) existent entre les caractéristiques et la qualité.\n",
      " Le  choix d'un modèle de régression pour prédire la qualité du vin repose sur la nature continue de la variable cible, la possibilité de relations linéaires, l'interprétabilité des résultats, et la capacité à évaluer et valider le modèle de manière rigoureuse.\n"
     ]
    }
   ],
   "source": [
    "print(\"La régression linéaire et ses variantes (comme la régression polynomiale) sont efficaces si vous soupçonnez que des relations linéaires (ou légèrement non linéaires) existent entre les caractéristiques et la qualité.\\n Le  choix d'un modèle de régression pour prédire la qualité du vin repose sur la nature continue de la variable cible, la possibilité de relations linéaires, l'interprétabilité des résultats, et la capacité à évaluer et valider le modèle de manière rigoureuse.\")"
   ]
  },
  {
   "cell_type": "code",
   "execution_count": 886,
   "id": "69f3c405-2452-43bf-bdc8-ed5861875073",
   "metadata": {},
   "outputs": [],
   "source": [
    "############################# Choisissez le bon modèle en fonction de la nature de votre problème.###############"
   ]
  },
  {
   "cell_type": "code",
   "execution_count": 888,
   "id": "10510af0-b996-4484-b697-e2353422794b",
   "metadata": {},
   "outputs": [
    {
     "name": "stdout",
     "output_type": "stream",
     "text": [
      "['High']\n",
      "Categories (3, object): ['Low' < 'Medium' < 'High']\n",
      "DataFrame après encodage :\n",
      "      type  fixed acidity  volatile acidity  citric acid  residual sugar  \\\n",
      "0        1       7.216573          0.344123     0.318738        5.053839   \n",
      "1        1       7.216573          0.344123     0.318738        5.053839   \n",
      "2        1       7.216573          0.344123     0.318738        5.053839   \n",
      "3        1       7.216573          0.344123     0.318738        5.053839   \n",
      "6        1       7.216573          0.344123     0.318738        5.053839   \n",
      "...    ...            ...               ...          ...             ...   \n",
      "6491     0       7.216573          0.344123     0.318738        5.053839   \n",
      "6492     0       7.216573          0.344123     0.318738        5.053839   \n",
      "6493     0       7.216573          0.344123     0.318738        5.053839   \n",
      "6495     0       7.216573          0.344123     0.318738        5.053839   \n",
      "6496     0       7.216573          0.344123     0.318738        5.053839   \n",
      "\n",
      "      chlorides  free sulfur dioxide  total sulfur dioxide  density        pH  \\\n",
      "0      0.056668                 45.0                 170.0  1.00100  3.224434   \n",
      "1      0.056668                 14.0                 132.0  0.99400  3.224434   \n",
      "2      0.056668                 30.0                  97.0  0.99510  3.224434   \n",
      "3      0.056668                 47.0                 186.0  0.99560  3.224434   \n",
      "6      0.056668                 30.0                 136.0  0.99490  3.224434   \n",
      "...         ...                  ...                   ...      ...       ...   \n",
      "6491   0.056668                 28.0                  38.0  0.99651  3.224434   \n",
      "6492   0.056668                 32.0                  44.0  0.99490  3.224434   \n",
      "6493   0.056668                 39.0                  51.0  0.99512  3.224434   \n",
      "6495   0.056668                 32.0                  44.0  0.99547  3.224434   \n",
      "6496   0.056668                 18.0                  42.0  0.99549  3.224434   \n",
      "\n",
      "      ...  quality  fixed_volatile_interaction  \\\n",
      "0     ...        6                    2.483391   \n",
      "1     ...        6                    2.483391   \n",
      "2     ...        6                    2.483391   \n",
      "3     ...        6                    2.483391   \n",
      "6     ...        6                    2.483391   \n",
      "...   ...      ...                         ...   \n",
      "6491  ...        6                    2.483391   \n",
      "6492  ...        5                    2.483391   \n",
      "6493  ...        6                    2.483391   \n",
      "6495  ...        5                    2.483391   \n",
      "6496  ...        6                    2.483391   \n",
      "\n",
      "      residual_sugar_to_fixed_acidity  high_alcohol  log_residual_sugar  \\\n",
      "0                             0.70031             0            1.800693   \n",
      "1                             0.70031             0            1.800693   \n",
      "2                             0.70031             1            1.800693   \n",
      "3                             0.70031             0            1.800693   \n",
      "6                             0.70031             0            1.800693   \n",
      "...                               ...           ...                 ...   \n",
      "6491                          0.70031             0            1.800693   \n",
      "6492                          0.70031             1            1.800693   \n",
      "6493                          0.70031             1            1.800693   \n",
      "6495                          0.70031             1            1.800693   \n",
      "6496                          0.70031             1            1.800693   \n",
      "\n",
      "      normalized_pH  alcohol_acidity_interaction  high_chlorides  \\\n",
      "0               0.0                    63.505839               1   \n",
      "1               0.0                    68.557440               1   \n",
      "2               0.0                    72.887384               1   \n",
      "3               0.0                    71.444069               1   \n",
      "6               0.0                    69.279098               1   \n",
      "...             ...                          ...             ...   \n",
      "6491            0.0                    68.557440               1   \n",
      "6492            0.0                    75.774013               1   \n",
      "6493            0.0                    80.825614               1   \n",
      "6495            0.0                    73.609041               1   \n",
      "6496            0.0                    79.382299               1   \n",
      "\n",
      "      sugar_acidity_ratio  acidity_category  \n",
      "0                 0.70031                 0  \n",
      "1                 0.70031                 0  \n",
      "2                 0.70031                 0  \n",
      "3                 0.70031                 0  \n",
      "6                 0.70031                 0  \n",
      "...                   ...               ...  \n",
      "6491              0.70031                 0  \n",
      "6492              0.70031                 0  \n",
      "6493              0.70031                 0  \n",
      "6495              0.70031                 0  \n",
      "6496              0.70031                 0  \n",
      "\n",
      "[5329 rows x 22 columns]\n"
     ]
    },
    {
     "name": "stderr",
     "output_type": "stream",
     "text": [
      "C:\\Users\\DELL\\AppData\\Local\\Temp\\ipykernel_21028\\3407770686.py:3: FutureWarning: Setting an item of incompatible dtype is deprecated and will raise in a future error of pandas. Value '[0 0 0 ... 0 0 0]' has dtype incompatible with category, please explicitly cast to a compatible dtype first.\n",
      "  new_df.loc[:, 'acidity_category'] = label_encoder.fit_transform(new_df['acidity_category'])\n"
     ]
    }
   ],
   "source": [
    "print(new_df['acidity_category'].unique())\n",
    "# Encoder acidity_category\n",
    "new_df.loc[:, 'acidity_category'] = label_encoder.fit_transform(new_df['acidity_category'])\n",
    "\n",
    "# Afficher le DataFrame encodé\n",
    "print(\"DataFrame après encodage :\")\n",
    "print(new_df)"
   ]
  },
  {
   "cell_type": "code",
   "execution_count": 890,
   "id": "2f6e1e47-4f46-48db-a4ea-b69f923eceb3",
   "metadata": {},
   "outputs": [],
   "source": [
    "# Préparer les données\n",
    "X = new_df.drop(columns=['quality'])\n",
    "y = new_df['quality']"
   ]
  },
  {
   "cell_type": "code",
   "execution_count": 892,
   "id": "592da872-b181-4388-8f9b-95949d9edaba",
   "metadata": {},
   "outputs": [],
   "source": [
    "# Diviser le jeu de données\n",
    "X_train, X_test, y_train, y_test = train_test_split(X, y, test_size=0.2, random_state=42)"
   ]
  },
  {
   "cell_type": "code",
   "execution_count": 894,
   "id": "81dfe740-1d01-4810-8c9e-ad2d9a6056af",
   "metadata": {},
   "outputs": [
    {
     "data": {
      "text/html": [
       "<style>#sk-container-id-9 {\n",
       "  /* Definition of color scheme common for light and dark mode */\n",
       "  --sklearn-color-text: black;\n",
       "  --sklearn-color-line: gray;\n",
       "  /* Definition of color scheme for unfitted estimators */\n",
       "  --sklearn-color-unfitted-level-0: #fff5e6;\n",
       "  --sklearn-color-unfitted-level-1: #f6e4d2;\n",
       "  --sklearn-color-unfitted-level-2: #ffe0b3;\n",
       "  --sklearn-color-unfitted-level-3: chocolate;\n",
       "  /* Definition of color scheme for fitted estimators */\n",
       "  --sklearn-color-fitted-level-0: #f0f8ff;\n",
       "  --sklearn-color-fitted-level-1: #d4ebff;\n",
       "  --sklearn-color-fitted-level-2: #b3dbfd;\n",
       "  --sklearn-color-fitted-level-3: cornflowerblue;\n",
       "\n",
       "  /* Specific color for light theme */\n",
       "  --sklearn-color-text-on-default-background: var(--sg-text-color, var(--theme-code-foreground, var(--jp-content-font-color1, black)));\n",
       "  --sklearn-color-background: var(--sg-background-color, var(--theme-background, var(--jp-layout-color0, white)));\n",
       "  --sklearn-color-border-box: var(--sg-text-color, var(--theme-code-foreground, var(--jp-content-font-color1, black)));\n",
       "  --sklearn-color-icon: #696969;\n",
       "\n",
       "  @media (prefers-color-scheme: dark) {\n",
       "    /* Redefinition of color scheme for dark theme */\n",
       "    --sklearn-color-text-on-default-background: var(--sg-text-color, var(--theme-code-foreground, var(--jp-content-font-color1, white)));\n",
       "    --sklearn-color-background: var(--sg-background-color, var(--theme-background, var(--jp-layout-color0, #111)));\n",
       "    --sklearn-color-border-box: var(--sg-text-color, var(--theme-code-foreground, var(--jp-content-font-color1, white)));\n",
       "    --sklearn-color-icon: #878787;\n",
       "  }\n",
       "}\n",
       "\n",
       "#sk-container-id-9 {\n",
       "  color: var(--sklearn-color-text);\n",
       "}\n",
       "\n",
       "#sk-container-id-9 pre {\n",
       "  padding: 0;\n",
       "}\n",
       "\n",
       "#sk-container-id-9 input.sk-hidden--visually {\n",
       "  border: 0;\n",
       "  clip: rect(1px 1px 1px 1px);\n",
       "  clip: rect(1px, 1px, 1px, 1px);\n",
       "  height: 1px;\n",
       "  margin: -1px;\n",
       "  overflow: hidden;\n",
       "  padding: 0;\n",
       "  position: absolute;\n",
       "  width: 1px;\n",
       "}\n",
       "\n",
       "#sk-container-id-9 div.sk-dashed-wrapped {\n",
       "  border: 1px dashed var(--sklearn-color-line);\n",
       "  margin: 0 0.4em 0.5em 0.4em;\n",
       "  box-sizing: border-box;\n",
       "  padding-bottom: 0.4em;\n",
       "  background-color: var(--sklearn-color-background);\n",
       "}\n",
       "\n",
       "#sk-container-id-9 div.sk-container {\n",
       "  /* jupyter's `normalize.less` sets `[hidden] { display: none; }`\n",
       "     but bootstrap.min.css set `[hidden] { display: none !important; }`\n",
       "     so we also need the `!important` here to be able to override the\n",
       "     default hidden behavior on the sphinx rendered scikit-learn.org.\n",
       "     See: https://github.com/scikit-learn/scikit-learn/issues/21755 */\n",
       "  display: inline-block !important;\n",
       "  position: relative;\n",
       "}\n",
       "\n",
       "#sk-container-id-9 div.sk-text-repr-fallback {\n",
       "  display: none;\n",
       "}\n",
       "\n",
       "div.sk-parallel-item,\n",
       "div.sk-serial,\n",
       "div.sk-item {\n",
       "  /* draw centered vertical line to link estimators */\n",
       "  background-image: linear-gradient(var(--sklearn-color-text-on-default-background), var(--sklearn-color-text-on-default-background));\n",
       "  background-size: 2px 100%;\n",
       "  background-repeat: no-repeat;\n",
       "  background-position: center center;\n",
       "}\n",
       "\n",
       "/* Parallel-specific style estimator block */\n",
       "\n",
       "#sk-container-id-9 div.sk-parallel-item::after {\n",
       "  content: \"\";\n",
       "  width: 100%;\n",
       "  border-bottom: 2px solid var(--sklearn-color-text-on-default-background);\n",
       "  flex-grow: 1;\n",
       "}\n",
       "\n",
       "#sk-container-id-9 div.sk-parallel {\n",
       "  display: flex;\n",
       "  align-items: stretch;\n",
       "  justify-content: center;\n",
       "  background-color: var(--sklearn-color-background);\n",
       "  position: relative;\n",
       "}\n",
       "\n",
       "#sk-container-id-9 div.sk-parallel-item {\n",
       "  display: flex;\n",
       "  flex-direction: column;\n",
       "}\n",
       "\n",
       "#sk-container-id-9 div.sk-parallel-item:first-child::after {\n",
       "  align-self: flex-end;\n",
       "  width: 50%;\n",
       "}\n",
       "\n",
       "#sk-container-id-9 div.sk-parallel-item:last-child::after {\n",
       "  align-self: flex-start;\n",
       "  width: 50%;\n",
       "}\n",
       "\n",
       "#sk-container-id-9 div.sk-parallel-item:only-child::after {\n",
       "  width: 0;\n",
       "}\n",
       "\n",
       "/* Serial-specific style estimator block */\n",
       "\n",
       "#sk-container-id-9 div.sk-serial {\n",
       "  display: flex;\n",
       "  flex-direction: column;\n",
       "  align-items: center;\n",
       "  background-color: var(--sklearn-color-background);\n",
       "  padding-right: 1em;\n",
       "  padding-left: 1em;\n",
       "}\n",
       "\n",
       "\n",
       "/* Toggleable style: style used for estimator/Pipeline/ColumnTransformer box that is\n",
       "clickable and can be expanded/collapsed.\n",
       "- Pipeline and ColumnTransformer use this feature and define the default style\n",
       "- Estimators will overwrite some part of the style using the `sk-estimator` class\n",
       "*/\n",
       "\n",
       "/* Pipeline and ColumnTransformer style (default) */\n",
       "\n",
       "#sk-container-id-9 div.sk-toggleable {\n",
       "  /* Default theme specific background. It is overwritten whether we have a\n",
       "  specific estimator or a Pipeline/ColumnTransformer */\n",
       "  background-color: var(--sklearn-color-background);\n",
       "}\n",
       "\n",
       "/* Toggleable label */\n",
       "#sk-container-id-9 label.sk-toggleable__label {\n",
       "  cursor: pointer;\n",
       "  display: block;\n",
       "  width: 100%;\n",
       "  margin-bottom: 0;\n",
       "  padding: 0.5em;\n",
       "  box-sizing: border-box;\n",
       "  text-align: center;\n",
       "}\n",
       "\n",
       "#sk-container-id-9 label.sk-toggleable__label-arrow:before {\n",
       "  /* Arrow on the left of the label */\n",
       "  content: \"▸\";\n",
       "  float: left;\n",
       "  margin-right: 0.25em;\n",
       "  color: var(--sklearn-color-icon);\n",
       "}\n",
       "\n",
       "#sk-container-id-9 label.sk-toggleable__label-arrow:hover:before {\n",
       "  color: var(--sklearn-color-text);\n",
       "}\n",
       "\n",
       "/* Toggleable content - dropdown */\n",
       "\n",
       "#sk-container-id-9 div.sk-toggleable__content {\n",
       "  max-height: 0;\n",
       "  max-width: 0;\n",
       "  overflow: hidden;\n",
       "  text-align: left;\n",
       "  /* unfitted */\n",
       "  background-color: var(--sklearn-color-unfitted-level-0);\n",
       "}\n",
       "\n",
       "#sk-container-id-9 div.sk-toggleable__content.fitted {\n",
       "  /* fitted */\n",
       "  background-color: var(--sklearn-color-fitted-level-0);\n",
       "}\n",
       "\n",
       "#sk-container-id-9 div.sk-toggleable__content pre {\n",
       "  margin: 0.2em;\n",
       "  border-radius: 0.25em;\n",
       "  color: var(--sklearn-color-text);\n",
       "  /* unfitted */\n",
       "  background-color: var(--sklearn-color-unfitted-level-0);\n",
       "}\n",
       "\n",
       "#sk-container-id-9 div.sk-toggleable__content.fitted pre {\n",
       "  /* unfitted */\n",
       "  background-color: var(--sklearn-color-fitted-level-0);\n",
       "}\n",
       "\n",
       "#sk-container-id-9 input.sk-toggleable__control:checked~div.sk-toggleable__content {\n",
       "  /* Expand drop-down */\n",
       "  max-height: 200px;\n",
       "  max-width: 100%;\n",
       "  overflow: auto;\n",
       "}\n",
       "\n",
       "#sk-container-id-9 input.sk-toggleable__control:checked~label.sk-toggleable__label-arrow:before {\n",
       "  content: \"▾\";\n",
       "}\n",
       "\n",
       "/* Pipeline/ColumnTransformer-specific style */\n",
       "\n",
       "#sk-container-id-9 div.sk-label input.sk-toggleable__control:checked~label.sk-toggleable__label {\n",
       "  color: var(--sklearn-color-text);\n",
       "  background-color: var(--sklearn-color-unfitted-level-2);\n",
       "}\n",
       "\n",
       "#sk-container-id-9 div.sk-label.fitted input.sk-toggleable__control:checked~label.sk-toggleable__label {\n",
       "  background-color: var(--sklearn-color-fitted-level-2);\n",
       "}\n",
       "\n",
       "/* Estimator-specific style */\n",
       "\n",
       "/* Colorize estimator box */\n",
       "#sk-container-id-9 div.sk-estimator input.sk-toggleable__control:checked~label.sk-toggleable__label {\n",
       "  /* unfitted */\n",
       "  background-color: var(--sklearn-color-unfitted-level-2);\n",
       "}\n",
       "\n",
       "#sk-container-id-9 div.sk-estimator.fitted input.sk-toggleable__control:checked~label.sk-toggleable__label {\n",
       "  /* fitted */\n",
       "  background-color: var(--sklearn-color-fitted-level-2);\n",
       "}\n",
       "\n",
       "#sk-container-id-9 div.sk-label label.sk-toggleable__label,\n",
       "#sk-container-id-9 div.sk-label label {\n",
       "  /* The background is the default theme color */\n",
       "  color: var(--sklearn-color-text-on-default-background);\n",
       "}\n",
       "\n",
       "/* On hover, darken the color of the background */\n",
       "#sk-container-id-9 div.sk-label:hover label.sk-toggleable__label {\n",
       "  color: var(--sklearn-color-text);\n",
       "  background-color: var(--sklearn-color-unfitted-level-2);\n",
       "}\n",
       "\n",
       "/* Label box, darken color on hover, fitted */\n",
       "#sk-container-id-9 div.sk-label.fitted:hover label.sk-toggleable__label.fitted {\n",
       "  color: var(--sklearn-color-text);\n",
       "  background-color: var(--sklearn-color-fitted-level-2);\n",
       "}\n",
       "\n",
       "/* Estimator label */\n",
       "\n",
       "#sk-container-id-9 div.sk-label label {\n",
       "  font-family: monospace;\n",
       "  font-weight: bold;\n",
       "  display: inline-block;\n",
       "  line-height: 1.2em;\n",
       "}\n",
       "\n",
       "#sk-container-id-9 div.sk-label-container {\n",
       "  text-align: center;\n",
       "}\n",
       "\n",
       "/* Estimator-specific */\n",
       "#sk-container-id-9 div.sk-estimator {\n",
       "  font-family: monospace;\n",
       "  border: 1px dotted var(--sklearn-color-border-box);\n",
       "  border-radius: 0.25em;\n",
       "  box-sizing: border-box;\n",
       "  margin-bottom: 0.5em;\n",
       "  /* unfitted */\n",
       "  background-color: var(--sklearn-color-unfitted-level-0);\n",
       "}\n",
       "\n",
       "#sk-container-id-9 div.sk-estimator.fitted {\n",
       "  /* fitted */\n",
       "  background-color: var(--sklearn-color-fitted-level-0);\n",
       "}\n",
       "\n",
       "/* on hover */\n",
       "#sk-container-id-9 div.sk-estimator:hover {\n",
       "  /* unfitted */\n",
       "  background-color: var(--sklearn-color-unfitted-level-2);\n",
       "}\n",
       "\n",
       "#sk-container-id-9 div.sk-estimator.fitted:hover {\n",
       "  /* fitted */\n",
       "  background-color: var(--sklearn-color-fitted-level-2);\n",
       "}\n",
       "\n",
       "/* Specification for estimator info (e.g. \"i\" and \"?\") */\n",
       "\n",
       "/* Common style for \"i\" and \"?\" */\n",
       "\n",
       ".sk-estimator-doc-link,\n",
       "a:link.sk-estimator-doc-link,\n",
       "a:visited.sk-estimator-doc-link {\n",
       "  float: right;\n",
       "  font-size: smaller;\n",
       "  line-height: 1em;\n",
       "  font-family: monospace;\n",
       "  background-color: var(--sklearn-color-background);\n",
       "  border-radius: 1em;\n",
       "  height: 1em;\n",
       "  width: 1em;\n",
       "  text-decoration: none !important;\n",
       "  margin-left: 1ex;\n",
       "  /* unfitted */\n",
       "  border: var(--sklearn-color-unfitted-level-1) 1pt solid;\n",
       "  color: var(--sklearn-color-unfitted-level-1);\n",
       "}\n",
       "\n",
       ".sk-estimator-doc-link.fitted,\n",
       "a:link.sk-estimator-doc-link.fitted,\n",
       "a:visited.sk-estimator-doc-link.fitted {\n",
       "  /* fitted */\n",
       "  border: var(--sklearn-color-fitted-level-1) 1pt solid;\n",
       "  color: var(--sklearn-color-fitted-level-1);\n",
       "}\n",
       "\n",
       "/* On hover */\n",
       "div.sk-estimator:hover .sk-estimator-doc-link:hover,\n",
       ".sk-estimator-doc-link:hover,\n",
       "div.sk-label-container:hover .sk-estimator-doc-link:hover,\n",
       ".sk-estimator-doc-link:hover {\n",
       "  /* unfitted */\n",
       "  background-color: var(--sklearn-color-unfitted-level-3);\n",
       "  color: var(--sklearn-color-background);\n",
       "  text-decoration: none;\n",
       "}\n",
       "\n",
       "div.sk-estimator.fitted:hover .sk-estimator-doc-link.fitted:hover,\n",
       ".sk-estimator-doc-link.fitted:hover,\n",
       "div.sk-label-container:hover .sk-estimator-doc-link.fitted:hover,\n",
       ".sk-estimator-doc-link.fitted:hover {\n",
       "  /* fitted */\n",
       "  background-color: var(--sklearn-color-fitted-level-3);\n",
       "  color: var(--sklearn-color-background);\n",
       "  text-decoration: none;\n",
       "}\n",
       "\n",
       "/* Span, style for the box shown on hovering the info icon */\n",
       ".sk-estimator-doc-link span {\n",
       "  display: none;\n",
       "  z-index: 9999;\n",
       "  position: relative;\n",
       "  font-weight: normal;\n",
       "  right: .2ex;\n",
       "  padding: .5ex;\n",
       "  margin: .5ex;\n",
       "  width: min-content;\n",
       "  min-width: 20ex;\n",
       "  max-width: 50ex;\n",
       "  color: var(--sklearn-color-text);\n",
       "  box-shadow: 2pt 2pt 4pt #999;\n",
       "  /* unfitted */\n",
       "  background: var(--sklearn-color-unfitted-level-0);\n",
       "  border: .5pt solid var(--sklearn-color-unfitted-level-3);\n",
       "}\n",
       "\n",
       ".sk-estimator-doc-link.fitted span {\n",
       "  /* fitted */\n",
       "  background: var(--sklearn-color-fitted-level-0);\n",
       "  border: var(--sklearn-color-fitted-level-3);\n",
       "}\n",
       "\n",
       ".sk-estimator-doc-link:hover span {\n",
       "  display: block;\n",
       "}\n",
       "\n",
       "/* \"?\"-specific style due to the `<a>` HTML tag */\n",
       "\n",
       "#sk-container-id-9 a.estimator_doc_link {\n",
       "  float: right;\n",
       "  font-size: 1rem;\n",
       "  line-height: 1em;\n",
       "  font-family: monospace;\n",
       "  background-color: var(--sklearn-color-background);\n",
       "  border-radius: 1rem;\n",
       "  height: 1rem;\n",
       "  width: 1rem;\n",
       "  text-decoration: none;\n",
       "  /* unfitted */\n",
       "  color: var(--sklearn-color-unfitted-level-1);\n",
       "  border: var(--sklearn-color-unfitted-level-1) 1pt solid;\n",
       "}\n",
       "\n",
       "#sk-container-id-9 a.estimator_doc_link.fitted {\n",
       "  /* fitted */\n",
       "  border: var(--sklearn-color-fitted-level-1) 1pt solid;\n",
       "  color: var(--sklearn-color-fitted-level-1);\n",
       "}\n",
       "\n",
       "/* On hover */\n",
       "#sk-container-id-9 a.estimator_doc_link:hover {\n",
       "  /* unfitted */\n",
       "  background-color: var(--sklearn-color-unfitted-level-3);\n",
       "  color: var(--sklearn-color-background);\n",
       "  text-decoration: none;\n",
       "}\n",
       "\n",
       "#sk-container-id-9 a.estimator_doc_link.fitted:hover {\n",
       "  /* fitted */\n",
       "  background-color: var(--sklearn-color-fitted-level-3);\n",
       "}\n",
       "</style><div id=\"sk-container-id-9\" class=\"sk-top-container\"><div class=\"sk-text-repr-fallback\"><pre>RandomForestRegressor(random_state=42)</pre><b>In a Jupyter environment, please rerun this cell to show the HTML representation or trust the notebook. <br />On GitHub, the HTML representation is unable to render, please try loading this page with nbviewer.org.</b></div><div class=\"sk-container\" hidden><div class=\"sk-item\"><div class=\"sk-estimator fitted sk-toggleable\"><input class=\"sk-toggleable__control sk-hidden--visually\" id=\"sk-estimator-id-17\" type=\"checkbox\" checked><label for=\"sk-estimator-id-17\" class=\"sk-toggleable__label fitted sk-toggleable__label-arrow fitted\">&nbsp;&nbsp;RandomForestRegressor<a class=\"sk-estimator-doc-link fitted\" rel=\"noreferrer\" target=\"_blank\" href=\"https://scikit-learn.org/1.5/modules/generated/sklearn.ensemble.RandomForestRegressor.html\">?<span>Documentation for RandomForestRegressor</span></a><span class=\"sk-estimator-doc-link fitted\">i<span>Fitted</span></span></label><div class=\"sk-toggleable__content fitted\"><pre>RandomForestRegressor(random_state=42)</pre></div> </div></div></div></div>"
      ],
      "text/plain": [
       "RandomForestRegressor(random_state=42)"
      ]
     },
     "execution_count": 894,
     "metadata": {},
     "output_type": "execute_result"
    }
   ],
   "source": [
    "# Initialiser et entraîner le modèle\n",
    "model = RandomForestRegressor(random_state=42)\n",
    "model.fit(X_train, y_train)"
   ]
  },
  {
   "cell_type": "code",
   "execution_count": 895,
   "id": "e08c6414-1eb2-4951-bcc2-9c6c59fd8cb1",
   "metadata": {},
   "outputs": [],
   "source": [
    "# Prédictions\n",
    "y_pred = model.predict(X_test)"
   ]
  },
  {
   "cell_type": "code",
   "execution_count": 898,
   "id": "171f7bb6-2778-4890-ade3-ad12190ee068",
   "metadata": {},
   "outputs": [],
   "source": [
    "#Évaluez la performance de votre modèle en utilisant des métriques appropriées pour la tâche choisie (précision, rapports de classification, matrices de confusion)."
   ]
  },
  {
   "cell_type": "code",
   "execution_count": 900,
   "id": "ba536a84-24e3-42bf-a60b-635f61db3e30",
   "metadata": {},
   "outputs": [],
   "source": [
    "# Évaluation du modèle\n",
    "mse = mean_squared_error(y_test, y_pred)\n",
    "mae = mean_absolute_error(y_test, y_pred)\n",
    "r2 = r2_score(y_test, y_pred)"
   ]
  },
  {
   "cell_type": "code",
   "execution_count": 902,
   "id": "e05f1a90-56ef-4e5c-9078-7cfeb41e97c0",
   "metadata": {},
   "outputs": [
    {
     "name": "stdout",
     "output_type": "stream",
     "text": [
      "\n",
      "Évaluation du modèle de régression :\n",
      "Moyenne des erreurs quadratiques (MSE) : 0.60\n",
      "Moyenne absolue de l'erreur (MAE) : 0.59\n",
      "Coefficient de détermination (R²) : 0.22\n"
     ]
    }
   ],
   "source": [
    "# Affichage des résultats\n",
    "print(\"\\nÉvaluation du modèle de régression :\")\n",
    "print(f\"Moyenne des erreurs quadratiques (MSE) : {mse:.2f}\")\n",
    "print(f\"Moyenne absolue de l'erreur (MAE) : {mae:.2f}\")\n",
    "print(f\"Coefficient de détermination (R²) : {r2:.2f}\")"
   ]
  },
  {
   "cell_type": "code",
   "execution_count": 904,
   "id": "badcab8d-2e95-41b1-9c18-6a6059ba65de",
   "metadata": {},
   "outputs": [],
   "source": [
    "############### Utilisez des méthodes appropriées : ajustement des hyperparamètres, validation croisée, etc. #########"
   ]
  },
  {
   "cell_type": "code",
   "execution_count": 912,
   "id": "82b9aa94-1c12-4589-b272-99652ffa351f",
   "metadata": {},
   "outputs": [],
   "source": [
    "# Définir les hyperparamètres à ajuster\n",
    "param_grid = {\n",
    "    'n_estimators': [50],  \n",
    "    'max_depth': [None],   \n",
    "    'min_samples_split': [2]  \n",
    "}"
   ]
  },
  {
   "cell_type": "code",
   "execution_count": 914,
   "id": "f2a29b3c-fd18-4664-a4e6-ab4961cbfac5",
   "metadata": {},
   "outputs": [],
   "source": [
    "# Configurer la recherche en grille avec validation croisée\n",
    "grid_search = GridSearchCV(RandomForestRegressor(random_state=42), param_grid, cv=5)"
   ]
  },
  {
   "cell_type": "code",
   "execution_count": 916,
   "id": "93c840a6-021f-4c8c-adac-ce873b106cfc",
   "metadata": {},
   "outputs": [
    {
     "data": {
      "text/html": [
       "<style>#sk-container-id-11 {\n",
       "  /* Definition of color scheme common for light and dark mode */\n",
       "  --sklearn-color-text: black;\n",
       "  --sklearn-color-line: gray;\n",
       "  /* Definition of color scheme for unfitted estimators */\n",
       "  --sklearn-color-unfitted-level-0: #fff5e6;\n",
       "  --sklearn-color-unfitted-level-1: #f6e4d2;\n",
       "  --sklearn-color-unfitted-level-2: #ffe0b3;\n",
       "  --sklearn-color-unfitted-level-3: chocolate;\n",
       "  /* Definition of color scheme for fitted estimators */\n",
       "  --sklearn-color-fitted-level-0: #f0f8ff;\n",
       "  --sklearn-color-fitted-level-1: #d4ebff;\n",
       "  --sklearn-color-fitted-level-2: #b3dbfd;\n",
       "  --sklearn-color-fitted-level-3: cornflowerblue;\n",
       "\n",
       "  /* Specific color for light theme */\n",
       "  --sklearn-color-text-on-default-background: var(--sg-text-color, var(--theme-code-foreground, var(--jp-content-font-color1, black)));\n",
       "  --sklearn-color-background: var(--sg-background-color, var(--theme-background, var(--jp-layout-color0, white)));\n",
       "  --sklearn-color-border-box: var(--sg-text-color, var(--theme-code-foreground, var(--jp-content-font-color1, black)));\n",
       "  --sklearn-color-icon: #696969;\n",
       "\n",
       "  @media (prefers-color-scheme: dark) {\n",
       "    /* Redefinition of color scheme for dark theme */\n",
       "    --sklearn-color-text-on-default-background: var(--sg-text-color, var(--theme-code-foreground, var(--jp-content-font-color1, white)));\n",
       "    --sklearn-color-background: var(--sg-background-color, var(--theme-background, var(--jp-layout-color0, #111)));\n",
       "    --sklearn-color-border-box: var(--sg-text-color, var(--theme-code-foreground, var(--jp-content-font-color1, white)));\n",
       "    --sklearn-color-icon: #878787;\n",
       "  }\n",
       "}\n",
       "\n",
       "#sk-container-id-11 {\n",
       "  color: var(--sklearn-color-text);\n",
       "}\n",
       "\n",
       "#sk-container-id-11 pre {\n",
       "  padding: 0;\n",
       "}\n",
       "\n",
       "#sk-container-id-11 input.sk-hidden--visually {\n",
       "  border: 0;\n",
       "  clip: rect(1px 1px 1px 1px);\n",
       "  clip: rect(1px, 1px, 1px, 1px);\n",
       "  height: 1px;\n",
       "  margin: -1px;\n",
       "  overflow: hidden;\n",
       "  padding: 0;\n",
       "  position: absolute;\n",
       "  width: 1px;\n",
       "}\n",
       "\n",
       "#sk-container-id-11 div.sk-dashed-wrapped {\n",
       "  border: 1px dashed var(--sklearn-color-line);\n",
       "  margin: 0 0.4em 0.5em 0.4em;\n",
       "  box-sizing: border-box;\n",
       "  padding-bottom: 0.4em;\n",
       "  background-color: var(--sklearn-color-background);\n",
       "}\n",
       "\n",
       "#sk-container-id-11 div.sk-container {\n",
       "  /* jupyter's `normalize.less` sets `[hidden] { display: none; }`\n",
       "     but bootstrap.min.css set `[hidden] { display: none !important; }`\n",
       "     so we also need the `!important` here to be able to override the\n",
       "     default hidden behavior on the sphinx rendered scikit-learn.org.\n",
       "     See: https://github.com/scikit-learn/scikit-learn/issues/21755 */\n",
       "  display: inline-block !important;\n",
       "  position: relative;\n",
       "}\n",
       "\n",
       "#sk-container-id-11 div.sk-text-repr-fallback {\n",
       "  display: none;\n",
       "}\n",
       "\n",
       "div.sk-parallel-item,\n",
       "div.sk-serial,\n",
       "div.sk-item {\n",
       "  /* draw centered vertical line to link estimators */\n",
       "  background-image: linear-gradient(var(--sklearn-color-text-on-default-background), var(--sklearn-color-text-on-default-background));\n",
       "  background-size: 2px 100%;\n",
       "  background-repeat: no-repeat;\n",
       "  background-position: center center;\n",
       "}\n",
       "\n",
       "/* Parallel-specific style estimator block */\n",
       "\n",
       "#sk-container-id-11 div.sk-parallel-item::after {\n",
       "  content: \"\";\n",
       "  width: 100%;\n",
       "  border-bottom: 2px solid var(--sklearn-color-text-on-default-background);\n",
       "  flex-grow: 1;\n",
       "}\n",
       "\n",
       "#sk-container-id-11 div.sk-parallel {\n",
       "  display: flex;\n",
       "  align-items: stretch;\n",
       "  justify-content: center;\n",
       "  background-color: var(--sklearn-color-background);\n",
       "  position: relative;\n",
       "}\n",
       "\n",
       "#sk-container-id-11 div.sk-parallel-item {\n",
       "  display: flex;\n",
       "  flex-direction: column;\n",
       "}\n",
       "\n",
       "#sk-container-id-11 div.sk-parallel-item:first-child::after {\n",
       "  align-self: flex-end;\n",
       "  width: 50%;\n",
       "}\n",
       "\n",
       "#sk-container-id-11 div.sk-parallel-item:last-child::after {\n",
       "  align-self: flex-start;\n",
       "  width: 50%;\n",
       "}\n",
       "\n",
       "#sk-container-id-11 div.sk-parallel-item:only-child::after {\n",
       "  width: 0;\n",
       "}\n",
       "\n",
       "/* Serial-specific style estimator block */\n",
       "\n",
       "#sk-container-id-11 div.sk-serial {\n",
       "  display: flex;\n",
       "  flex-direction: column;\n",
       "  align-items: center;\n",
       "  background-color: var(--sklearn-color-background);\n",
       "  padding-right: 1em;\n",
       "  padding-left: 1em;\n",
       "}\n",
       "\n",
       "\n",
       "/* Toggleable style: style used for estimator/Pipeline/ColumnTransformer box that is\n",
       "clickable and can be expanded/collapsed.\n",
       "- Pipeline and ColumnTransformer use this feature and define the default style\n",
       "- Estimators will overwrite some part of the style using the `sk-estimator` class\n",
       "*/\n",
       "\n",
       "/* Pipeline and ColumnTransformer style (default) */\n",
       "\n",
       "#sk-container-id-11 div.sk-toggleable {\n",
       "  /* Default theme specific background. It is overwritten whether we have a\n",
       "  specific estimator or a Pipeline/ColumnTransformer */\n",
       "  background-color: var(--sklearn-color-background);\n",
       "}\n",
       "\n",
       "/* Toggleable label */\n",
       "#sk-container-id-11 label.sk-toggleable__label {\n",
       "  cursor: pointer;\n",
       "  display: block;\n",
       "  width: 100%;\n",
       "  margin-bottom: 0;\n",
       "  padding: 0.5em;\n",
       "  box-sizing: border-box;\n",
       "  text-align: center;\n",
       "}\n",
       "\n",
       "#sk-container-id-11 label.sk-toggleable__label-arrow:before {\n",
       "  /* Arrow on the left of the label */\n",
       "  content: \"▸\";\n",
       "  float: left;\n",
       "  margin-right: 0.25em;\n",
       "  color: var(--sklearn-color-icon);\n",
       "}\n",
       "\n",
       "#sk-container-id-11 label.sk-toggleable__label-arrow:hover:before {\n",
       "  color: var(--sklearn-color-text);\n",
       "}\n",
       "\n",
       "/* Toggleable content - dropdown */\n",
       "\n",
       "#sk-container-id-11 div.sk-toggleable__content {\n",
       "  max-height: 0;\n",
       "  max-width: 0;\n",
       "  overflow: hidden;\n",
       "  text-align: left;\n",
       "  /* unfitted */\n",
       "  background-color: var(--sklearn-color-unfitted-level-0);\n",
       "}\n",
       "\n",
       "#sk-container-id-11 div.sk-toggleable__content.fitted {\n",
       "  /* fitted */\n",
       "  background-color: var(--sklearn-color-fitted-level-0);\n",
       "}\n",
       "\n",
       "#sk-container-id-11 div.sk-toggleable__content pre {\n",
       "  margin: 0.2em;\n",
       "  border-radius: 0.25em;\n",
       "  color: var(--sklearn-color-text);\n",
       "  /* unfitted */\n",
       "  background-color: var(--sklearn-color-unfitted-level-0);\n",
       "}\n",
       "\n",
       "#sk-container-id-11 div.sk-toggleable__content.fitted pre {\n",
       "  /* unfitted */\n",
       "  background-color: var(--sklearn-color-fitted-level-0);\n",
       "}\n",
       "\n",
       "#sk-container-id-11 input.sk-toggleable__control:checked~div.sk-toggleable__content {\n",
       "  /* Expand drop-down */\n",
       "  max-height: 200px;\n",
       "  max-width: 100%;\n",
       "  overflow: auto;\n",
       "}\n",
       "\n",
       "#sk-container-id-11 input.sk-toggleable__control:checked~label.sk-toggleable__label-arrow:before {\n",
       "  content: \"▾\";\n",
       "}\n",
       "\n",
       "/* Pipeline/ColumnTransformer-specific style */\n",
       "\n",
       "#sk-container-id-11 div.sk-label input.sk-toggleable__control:checked~label.sk-toggleable__label {\n",
       "  color: var(--sklearn-color-text);\n",
       "  background-color: var(--sklearn-color-unfitted-level-2);\n",
       "}\n",
       "\n",
       "#sk-container-id-11 div.sk-label.fitted input.sk-toggleable__control:checked~label.sk-toggleable__label {\n",
       "  background-color: var(--sklearn-color-fitted-level-2);\n",
       "}\n",
       "\n",
       "/* Estimator-specific style */\n",
       "\n",
       "/* Colorize estimator box */\n",
       "#sk-container-id-11 div.sk-estimator input.sk-toggleable__control:checked~label.sk-toggleable__label {\n",
       "  /* unfitted */\n",
       "  background-color: var(--sklearn-color-unfitted-level-2);\n",
       "}\n",
       "\n",
       "#sk-container-id-11 div.sk-estimator.fitted input.sk-toggleable__control:checked~label.sk-toggleable__label {\n",
       "  /* fitted */\n",
       "  background-color: var(--sklearn-color-fitted-level-2);\n",
       "}\n",
       "\n",
       "#sk-container-id-11 div.sk-label label.sk-toggleable__label,\n",
       "#sk-container-id-11 div.sk-label label {\n",
       "  /* The background is the default theme color */\n",
       "  color: var(--sklearn-color-text-on-default-background);\n",
       "}\n",
       "\n",
       "/* On hover, darken the color of the background */\n",
       "#sk-container-id-11 div.sk-label:hover label.sk-toggleable__label {\n",
       "  color: var(--sklearn-color-text);\n",
       "  background-color: var(--sklearn-color-unfitted-level-2);\n",
       "}\n",
       "\n",
       "/* Label box, darken color on hover, fitted */\n",
       "#sk-container-id-11 div.sk-label.fitted:hover label.sk-toggleable__label.fitted {\n",
       "  color: var(--sklearn-color-text);\n",
       "  background-color: var(--sklearn-color-fitted-level-2);\n",
       "}\n",
       "\n",
       "/* Estimator label */\n",
       "\n",
       "#sk-container-id-11 div.sk-label label {\n",
       "  font-family: monospace;\n",
       "  font-weight: bold;\n",
       "  display: inline-block;\n",
       "  line-height: 1.2em;\n",
       "}\n",
       "\n",
       "#sk-container-id-11 div.sk-label-container {\n",
       "  text-align: center;\n",
       "}\n",
       "\n",
       "/* Estimator-specific */\n",
       "#sk-container-id-11 div.sk-estimator {\n",
       "  font-family: monospace;\n",
       "  border: 1px dotted var(--sklearn-color-border-box);\n",
       "  border-radius: 0.25em;\n",
       "  box-sizing: border-box;\n",
       "  margin-bottom: 0.5em;\n",
       "  /* unfitted */\n",
       "  background-color: var(--sklearn-color-unfitted-level-0);\n",
       "}\n",
       "\n",
       "#sk-container-id-11 div.sk-estimator.fitted {\n",
       "  /* fitted */\n",
       "  background-color: var(--sklearn-color-fitted-level-0);\n",
       "}\n",
       "\n",
       "/* on hover */\n",
       "#sk-container-id-11 div.sk-estimator:hover {\n",
       "  /* unfitted */\n",
       "  background-color: var(--sklearn-color-unfitted-level-2);\n",
       "}\n",
       "\n",
       "#sk-container-id-11 div.sk-estimator.fitted:hover {\n",
       "  /* fitted */\n",
       "  background-color: var(--sklearn-color-fitted-level-2);\n",
       "}\n",
       "\n",
       "/* Specification for estimator info (e.g. \"i\" and \"?\") */\n",
       "\n",
       "/* Common style for \"i\" and \"?\" */\n",
       "\n",
       ".sk-estimator-doc-link,\n",
       "a:link.sk-estimator-doc-link,\n",
       "a:visited.sk-estimator-doc-link {\n",
       "  float: right;\n",
       "  font-size: smaller;\n",
       "  line-height: 1em;\n",
       "  font-family: monospace;\n",
       "  background-color: var(--sklearn-color-background);\n",
       "  border-radius: 1em;\n",
       "  height: 1em;\n",
       "  width: 1em;\n",
       "  text-decoration: none !important;\n",
       "  margin-left: 1ex;\n",
       "  /* unfitted */\n",
       "  border: var(--sklearn-color-unfitted-level-1) 1pt solid;\n",
       "  color: var(--sklearn-color-unfitted-level-1);\n",
       "}\n",
       "\n",
       ".sk-estimator-doc-link.fitted,\n",
       "a:link.sk-estimator-doc-link.fitted,\n",
       "a:visited.sk-estimator-doc-link.fitted {\n",
       "  /* fitted */\n",
       "  border: var(--sklearn-color-fitted-level-1) 1pt solid;\n",
       "  color: var(--sklearn-color-fitted-level-1);\n",
       "}\n",
       "\n",
       "/* On hover */\n",
       "div.sk-estimator:hover .sk-estimator-doc-link:hover,\n",
       ".sk-estimator-doc-link:hover,\n",
       "div.sk-label-container:hover .sk-estimator-doc-link:hover,\n",
       ".sk-estimator-doc-link:hover {\n",
       "  /* unfitted */\n",
       "  background-color: var(--sklearn-color-unfitted-level-3);\n",
       "  color: var(--sklearn-color-background);\n",
       "  text-decoration: none;\n",
       "}\n",
       "\n",
       "div.sk-estimator.fitted:hover .sk-estimator-doc-link.fitted:hover,\n",
       ".sk-estimator-doc-link.fitted:hover,\n",
       "div.sk-label-container:hover .sk-estimator-doc-link.fitted:hover,\n",
       ".sk-estimator-doc-link.fitted:hover {\n",
       "  /* fitted */\n",
       "  background-color: var(--sklearn-color-fitted-level-3);\n",
       "  color: var(--sklearn-color-background);\n",
       "  text-decoration: none;\n",
       "}\n",
       "\n",
       "/* Span, style for the box shown on hovering the info icon */\n",
       ".sk-estimator-doc-link span {\n",
       "  display: none;\n",
       "  z-index: 9999;\n",
       "  position: relative;\n",
       "  font-weight: normal;\n",
       "  right: .2ex;\n",
       "  padding: .5ex;\n",
       "  margin: .5ex;\n",
       "  width: min-content;\n",
       "  min-width: 20ex;\n",
       "  max-width: 50ex;\n",
       "  color: var(--sklearn-color-text);\n",
       "  box-shadow: 2pt 2pt 4pt #999;\n",
       "  /* unfitted */\n",
       "  background: var(--sklearn-color-unfitted-level-0);\n",
       "  border: .5pt solid var(--sklearn-color-unfitted-level-3);\n",
       "}\n",
       "\n",
       ".sk-estimator-doc-link.fitted span {\n",
       "  /* fitted */\n",
       "  background: var(--sklearn-color-fitted-level-0);\n",
       "  border: var(--sklearn-color-fitted-level-3);\n",
       "}\n",
       "\n",
       ".sk-estimator-doc-link:hover span {\n",
       "  display: block;\n",
       "}\n",
       "\n",
       "/* \"?\"-specific style due to the `<a>` HTML tag */\n",
       "\n",
       "#sk-container-id-11 a.estimator_doc_link {\n",
       "  float: right;\n",
       "  font-size: 1rem;\n",
       "  line-height: 1em;\n",
       "  font-family: monospace;\n",
       "  background-color: var(--sklearn-color-background);\n",
       "  border-radius: 1rem;\n",
       "  height: 1rem;\n",
       "  width: 1rem;\n",
       "  text-decoration: none;\n",
       "  /* unfitted */\n",
       "  color: var(--sklearn-color-unfitted-level-1);\n",
       "  border: var(--sklearn-color-unfitted-level-1) 1pt solid;\n",
       "}\n",
       "\n",
       "#sk-container-id-11 a.estimator_doc_link.fitted {\n",
       "  /* fitted */\n",
       "  border: var(--sklearn-color-fitted-level-1) 1pt solid;\n",
       "  color: var(--sklearn-color-fitted-level-1);\n",
       "}\n",
       "\n",
       "/* On hover */\n",
       "#sk-container-id-11 a.estimator_doc_link:hover {\n",
       "  /* unfitted */\n",
       "  background-color: var(--sklearn-color-unfitted-level-3);\n",
       "  color: var(--sklearn-color-background);\n",
       "  text-decoration: none;\n",
       "}\n",
       "\n",
       "#sk-container-id-11 a.estimator_doc_link.fitted:hover {\n",
       "  /* fitted */\n",
       "  background-color: var(--sklearn-color-fitted-level-3);\n",
       "}\n",
       "</style><div id=\"sk-container-id-11\" class=\"sk-top-container\"><div class=\"sk-text-repr-fallback\"><pre>GridSearchCV(cv=5, estimator=RandomForestRegressor(random_state=42),\n",
       "             param_grid={&#x27;max_depth&#x27;: [None], &#x27;min_samples_split&#x27;: [2],\n",
       "                         &#x27;n_estimators&#x27;: [50]})</pre><b>In a Jupyter environment, please rerun this cell to show the HTML representation or trust the notebook. <br />On GitHub, the HTML representation is unable to render, please try loading this page with nbviewer.org.</b></div><div class=\"sk-container\" hidden><div class=\"sk-item sk-dashed-wrapped\"><div class=\"sk-label-container\"><div class=\"sk-label fitted sk-toggleable\"><input class=\"sk-toggleable__control sk-hidden--visually\" id=\"sk-estimator-id-21\" type=\"checkbox\" ><label for=\"sk-estimator-id-21\" class=\"sk-toggleable__label fitted sk-toggleable__label-arrow fitted\">&nbsp;&nbsp;GridSearchCV<a class=\"sk-estimator-doc-link fitted\" rel=\"noreferrer\" target=\"_blank\" href=\"https://scikit-learn.org/1.5/modules/generated/sklearn.model_selection.GridSearchCV.html\">?<span>Documentation for GridSearchCV</span></a><span class=\"sk-estimator-doc-link fitted\">i<span>Fitted</span></span></label><div class=\"sk-toggleable__content fitted\"><pre>GridSearchCV(cv=5, estimator=RandomForestRegressor(random_state=42),\n",
       "             param_grid={&#x27;max_depth&#x27;: [None], &#x27;min_samples_split&#x27;: [2],\n",
       "                         &#x27;n_estimators&#x27;: [50]})</pre></div> </div></div><div class=\"sk-parallel\"><div class=\"sk-parallel-item\"><div class=\"sk-item\"><div class=\"sk-label-container\"><div class=\"sk-label fitted sk-toggleable\"><input class=\"sk-toggleable__control sk-hidden--visually\" id=\"sk-estimator-id-22\" type=\"checkbox\" ><label for=\"sk-estimator-id-22\" class=\"sk-toggleable__label fitted sk-toggleable__label-arrow fitted\">best_estimator_: RandomForestRegressor</label><div class=\"sk-toggleable__content fitted\"><pre>RandomForestRegressor(n_estimators=50, random_state=42)</pre></div> </div></div><div class=\"sk-serial\"><div class=\"sk-item\"><div class=\"sk-estimator fitted sk-toggleable\"><input class=\"sk-toggleable__control sk-hidden--visually\" id=\"sk-estimator-id-23\" type=\"checkbox\" ><label for=\"sk-estimator-id-23\" class=\"sk-toggleable__label fitted sk-toggleable__label-arrow fitted\">&nbsp;RandomForestRegressor<a class=\"sk-estimator-doc-link fitted\" rel=\"noreferrer\" target=\"_blank\" href=\"https://scikit-learn.org/1.5/modules/generated/sklearn.ensemble.RandomForestRegressor.html\">?<span>Documentation for RandomForestRegressor</span></a></label><div class=\"sk-toggleable__content fitted\"><pre>RandomForestRegressor(n_estimators=50, random_state=42)</pre></div> </div></div></div></div></div></div></div></div></div>"
      ],
      "text/plain": [
       "GridSearchCV(cv=5, estimator=RandomForestRegressor(random_state=42),\n",
       "             param_grid={'max_depth': [None], 'min_samples_split': [2],\n",
       "                         'n_estimators': [50]})"
      ]
     },
     "execution_count": 916,
     "metadata": {},
     "output_type": "execute_result"
    }
   ],
   "source": [
    "# Ajuster le modèle\n",
    "grid_search.fit(X_train, y_train)"
   ]
  },
  {
   "cell_type": "code",
   "execution_count": 918,
   "id": "6da07915-e2f1-43f7-9241-30e93ef6fb92",
   "metadata": {},
   "outputs": [
    {
     "name": "stdout",
     "output_type": "stream",
     "text": [
      "Meilleurs Hyperparamètres :\n",
      "{'max_depth': None, 'min_samples_split': 2, 'n_estimators': 50}\n"
     ]
    }
   ],
   "source": [
    "# Afficher les meilleurs hyperparamètres\n",
    "print(\"Meilleurs Hyperparamètres :\")\n",
    "print(grid_search.best_params_)"
   ]
  },
  {
   "cell_type": "code",
   "execution_count": 920,
   "id": "10ef9ff6-4338-4f75-a504-1bd2ecab8813",
   "metadata": {},
   "outputs": [],
   "source": [
    "# Évaluer le modèle ajusté sur l'ensemble de test\n",
    "best_model = grid_search.best_estimator_\n",
    "y_pred = best_model.predict(X_test)"
   ]
  },
  {
   "cell_type": "code",
   "execution_count": 922,
   "id": "d5f3534a-3f9e-455b-aa10-0d350bcb3f7c",
   "metadata": {},
   "outputs": [],
   "source": [
    "# Évaluation du modèle\n",
    "mse = mean_squared_error(y_test, y_pred)\n",
    "mae = mean_absolute_error(y_test, y_pred)\n",
    "r2 = r2_score(y_test, y_pred)"
   ]
  },
  {
   "cell_type": "code",
   "execution_count": 924,
   "id": "e0dbae6e-f7c6-4791-900a-bc64bf5aafc2",
   "metadata": {},
   "outputs": [
    {
     "name": "stdout",
     "output_type": "stream",
     "text": [
      "\n",
      "Évaluation du modèle de régression :\n",
      "Moyenne des erreurs quadratiques (MSE) : 0.61\n",
      "Moyenne absolue de l'erreur (MAE) : 0.59\n",
      "Coefficient de détermination (R²) : 0.22\n"
     ]
    }
   ],
   "source": [
    "# Affichage des résultats\n",
    "print(\"\\nÉvaluation du modèle de régression :\")\n",
    "print(f\"Moyenne des erreurs quadratiques (MSE) : {mse:.2f}\")\n",
    "print(f\"Moyenne absolue de l'erreur (MAE) : {mae:.2f}\")\n",
    "print(f\"Coefficient de détermination (R²) : {r2:.2f}\")"
   ]
  },
  {
   "cell_type": "code",
   "execution_count": 926,
   "id": "d08e1045-6bfc-41a6-bc1b-bfbaac6bdf2a",
   "metadata": {},
   "outputs": [
    {
     "name": "stdout",
     "output_type": "stream",
     "text": [
      "Le choix d'un modèle de forêt aléatoire est justifié par sa robustesse, sa flexibilité et sa capacité à gérer des données complexes. Les résultats obtenus offrent des insights précieux sur les facteurs influençant la qualité du vin, tout en mettant en évidence les limites du modèle et les opportunités d'amélioration. En continuant à affiner le modèle et à explorer de nouvelles données, il est possible d'améliorer encore davantage la précision des prédictions et l'interprétabilité des résultats.\n"
     ]
    }
   ],
   "source": [
    "print(\"Le choix d'un modèle de forêt aléatoire est justifié par sa robustesse, sa flexibilité et sa capacité à gérer des données complexes. Les résultats obtenus offrent des insights précieux sur les facteurs influençant la qualité du vin, tout en mettant en évidence les limites du modèle et les opportunités d'amélioration. En continuant à affiner le modèle et à explorer de nouvelles données, il est possible d'améliorer encore davantage la précision des prédictions et l'interprétabilité des résultats.\")"
   ]
  },
  {
   "cell_type": "code",
   "execution_count": 928,
   "id": "f2bf1931-fbb1-4a64-b087-c07c0e48cbf5",
   "metadata": {},
   "outputs": [
    {
     "name": "stdout",
     "output_type": "stream",
     "text": [
      "Voici quelques défis rencontrés durant le projet de prédiction de la qualité du vin, ainsi que les solutions mises en œuvre pour les surmonter :\n",
      "\n",
      "Qualité et Préparation des Données\n",
      "Défi :\n",
      "Le jeu de données contenait des valeurs manquantes et des inconsistances dans certaines caractéristiques, ce qui pouvait affecter la performance du modèle.\n",
      "Solution :\n",
      "Analyse Exploratoire : J'ai commencé par effectuer une analyse exploratoire des données (EDA) pour identifier les valeurs manquantes et comprendre la distribution des caractéristiques.\n",
      "Imputation des Valeurs Manquantes : J'ai utilisé des techniques d'imputation, comme la moyenne ou la médiane, pour remplir les valeurs manquantes dans les caractéristiques numériques.\n",
      "Normalisation : Bien que les forêts aléatoires ne nécessitent pas de normalisation stricte, j'ai normalisé les caractéristiques lorsque nécessaire pour d'autres modèles, ce qui a amélioré la cohérence des données.\n",
      "\n",
      "Choix du Modèle et Hyperparamètres\n",
      "Défi :\n",
      "Initialement, il était difficile de choisir le bon modèle et d'optimiser les hyperparamètres, ce qui pouvait entraîner un surajustement ou une sous-performance.\n",
      "Solution :\n",
      "Essai de Modèles Multiples : J'ai testé plusieurs modèles (régression logistique, arbres de décision, forêts aléatoires) pour évaluer leurs performances respectives sur le jeu de données.\n",
      "Recherche d'Hyperparamètres : J'ai implémenté GridSearchCV pour effectuer une recherche exhaustive des hyperparamètres des forêts aléatoires, ce qui a permis d'identifier la meilleure combinaison de paramètres en utilisant la validation croisée.\n",
      "\n",
      "Interprétabilité du Modèle\n",
      "Défi :\n",
      "Les modèles d'ensemble comme les forêts aléatoires sont souvent perçus comme des \"boîtes noires\", rendant difficile l'interprétation des résultats.\n",
      "Solution :\n",
      "Importance des Caractéristiques : J'ai utilisé les scores d'importance des caractéristiques fournis par le modèle pour identifier les facteurs clés influençant la qualité du vin. Cela a aidé à interpréter les résultats et à communiquer les conclusions aux parties prenantes.\n",
      "Visualisations : J'ai créé des visualisations (heatmaps, diagrammes de dispersion) pour illustrer les relations entre les caractéristiques et la qualité du vin.\n",
      "\n",
      "Évaluation du Modèle\n",
      "Défi :\n",
      "Évaluer correctement la performance du modèle était crucial pour s'assurer qu'il générerait des prédictions fiables.\n",
      "Solution :\n",
      "Métriques Multiples : J'ai utilisé plusieurs métriques (précision, rappel, F-mesure, RMSE) pour évaluer le modèle, plutôt que de me fier à une seule métrique. Cela a permis d'obtenir une vue d'ensemble plus complète de la performance.\n",
      "Validation Croisée : J'ai mis en place une validation croisée pour évaluer la robustesse du modèle sur différents sous-ensembles des données, ce qui a contribué à réduire le risque de surajustement.\n"
     ]
    }
   ],
   "source": [
    "#Mettez en avant les défis rencontrés durant le projet et la manière dont vous les avez surmontés.\n",
    "###################################\n",
    "print(\"\"\"Voici quelques défis rencontrés durant le projet de prédiction de la qualité du vin, ainsi que les solutions mises en œuvre pour les surmonter :\n",
    "\n",
    "Qualité et Préparation des Données\n",
    "Défi :\n",
    "Le jeu de données contenait des valeurs manquantes et des inconsistances dans certaines caractéristiques, ce qui pouvait affecter la performance du modèle.\n",
    "Solution :\n",
    "Analyse Exploratoire : J'ai commencé par effectuer une analyse exploratoire des données (EDA) pour identifier les valeurs manquantes et comprendre la distribution des caractéristiques.\n",
    "Imputation des Valeurs Manquantes : J'ai utilisé des techniques d'imputation, comme la moyenne ou la médiane, pour remplir les valeurs manquantes dans les caractéristiques numériques.\n",
    "Normalisation : Bien que les forêts aléatoires ne nécessitent pas de normalisation stricte, j'ai normalisé les caractéristiques lorsque nécessaire pour d'autres modèles, ce qui a amélioré la cohérence des données.\n",
    "\n",
    "Choix du Modèle et Hyperparamètres\n",
    "Défi :\n",
    "Initialement, il était difficile de choisir le bon modèle et d'optimiser les hyperparamètres, ce qui pouvait entraîner un surajustement ou une sous-performance.\n",
    "Solution :\n",
    "Essai de Modèles Multiples : J'ai testé plusieurs modèles (régression logistique, arbres de décision, forêts aléatoires) pour évaluer leurs performances respectives sur le jeu de données.\n",
    "Recherche d'Hyperparamètres : J'ai implémenté GridSearchCV pour effectuer une recherche exhaustive des hyperparamètres des forêts aléatoires, ce qui a permis d'identifier la meilleure combinaison de paramètres en utilisant la validation croisée.\n",
    "\n",
    "Interprétabilité du Modèle\n",
    "Défi :\n",
    "Les modèles d'ensemble comme les forêts aléatoires sont souvent perçus comme des \"boîtes noires\", rendant difficile l'interprétation des résultats.\n",
    "Solution :\n",
    "Importance des Caractéristiques : J'ai utilisé les scores d'importance des caractéristiques fournis par le modèle pour identifier les facteurs clés influençant la qualité du vin. Cela a aidé à interpréter les résultats et à communiquer les conclusions aux parties prenantes.\n",
    "Visualisations : J'ai créé des visualisations (heatmaps, diagrammes de dispersion) pour illustrer les relations entre les caractéristiques et la qualité du vin.\n",
    "\n",
    "Évaluation du Modèle\n",
    "Défi :\n",
    "Évaluer correctement la performance du modèle était crucial pour s'assurer qu'il générerait des prédictions fiables.\n",
    "Solution :\n",
    "Métriques Multiples : J'ai utilisé plusieurs métriques (précision, rappel, F-mesure, RMSE) pour évaluer le modèle, plutôt que de me fier à une seule métrique. Cela a permis d'obtenir une vue d'ensemble plus complète de la performance.\n",
    "Validation Croisée : J'ai mis en place une validation croisée pour évaluer la robustesse du modèle sur différents sous-ensembles des données, ce qui a contribué à réduire le risque de surajustement.\"\"\")"
   ]
  },
  {
   "cell_type": "code",
   "execution_count": 930,
   "id": "27a5b6ee-1aa5-4252-84b0-e34f6696a047",
   "metadata": {},
   "outputs": [],
   "source": [
    "############################### Quelle base de données avez-vous utilisée ? ###############"
   ]
  },
  {
   "cell_type": "code",
   "execution_count": 932,
   "id": "2c4b1946-3e70-4f66-b123-4f91da8c8ebf",
   "metadata": {},
   "outputs": [
    {
     "name": "stdout",
     "output_type": "stream",
     "text": [
      "Pour le projet de prédiction de la qualité du vin, j'ai utilisé la base de données Wine Quality, qui est disponible sur Kaggle. Cette base de données contient des informations sur des vins rouges et blancs, y compris diverses caractéristiques physico-chimiques et une évaluation de la qualité sur une échelle de 1 à 10.\n"
     ]
    }
   ],
   "source": [
    "print(\"\"\"Pour le projet de prédiction de la qualité du vin, j'ai utilisé la base de données Wine Quality, qui est disponible sur Kaggle. Cette base de données contient des informations sur des vins rouges et blancs, y compris diverses caractéristiques physico-chimiques et une évaluation de la qualité sur une échelle de 1 à 10.\"\"\")"
   ]
  },
  {
   "cell_type": "code",
   "execution_count": 934,
   "id": "ad578463-10d2-4533-ab94-e4903f314e2f",
   "metadata": {},
   "outputs": [
    {
     "name": "stdout",
     "output_type": "stream",
     "text": [
      "Objectif du Projet : \n",
      "\n",
      "L'objectif principal de ce projet est de prédire la qualité du vin en utilisant des caractéristiques physico-chimiques. Nous souhaitons développer un modèle de machine learning qui peut classer les vins en fonction de leur qualité, afin d'aider les producteurs à améliorer leurs processus de vinification.\n"
     ]
    }
   ],
   "source": [
    "########### Expliquez votre projet ! J'aimerais voir la réflexion derrière le code essentiellement. ####################\n",
    "\n",
    "print(\"\"\"Objectif du Projet : \n",
    "\n",
    "L'objectif principal de ce projet est de prédire la qualité du vin en utilisant des caractéristiques physico-chimiques. Nous souhaitons développer un modèle de machine learning qui peut classer les vins en fonction de leur qualité, afin d'aider les producteurs à améliorer leurs processus de vinification.\"\"\")"
   ]
  },
  {
   "cell_type": "code",
   "execution_count": 936,
   "id": "700c6a76-cd99-4a6b-8d61-f49484feeefa",
   "metadata": {},
   "outputs": [],
   "source": [
    "################\" Par exemple, pourquoi ce projet vous a-t-il intéressé, les étapes que vous avez suivies lors de la réalisation du projet, comment vous avez décidé quel modèle utiliser."
   ]
  },
  {
   "cell_type": "code",
   "execution_count": 938,
   "id": "66edf79f-a355-45ea-a250-c18d56ccea73",
   "metadata": {},
   "outputs": [
    {
     "name": "stdout",
     "output_type": "stream",
     "text": [
      "Ce projet m'a particulièrement intéressé pour plusieurs raisons :\n",
      "\n",
      "Passion pour l'Œnologie : J'ai toujours été fasciné par le monde du vin, ses nuances et la science qui sous-tend sa production. Comprendre comment des caractéristiques physico-chimiques peuvent influencer la qualité du vin est un sujet captivant.\n",
      "Application Pratique de la Data Science : Ce projet représente une excellente occasion d'appliquer des techniques de machine learning à un problème réel, ce qui permet de voir comment les données peuvent influencer des décisions industrielles.\n",
      "Complexité des Données : La diversité des caractéristiques et la nature non linéaire des relations entre elles offrent un terrain riche pour l'exploration et l'expérimentation.\n"
     ]
    }
   ],
   "source": [
    "print(\"\"\"Ce projet m'a particulièrement intéressé pour plusieurs raisons :\n",
    "\n",
    "Passion pour l'Œnologie : J'ai toujours été fasciné par le monde du vin, ses nuances et la science qui sous-tend sa production. Comprendre comment des caractéristiques physico-chimiques peuvent influencer la qualité du vin est un sujet captivant.\n",
    "Application Pratique de la Data Science : Ce projet représente une excellente occasion d'appliquer des techniques de machine learning à un problème réel, ce qui permet de voir comment les données peuvent influencer des décisions industrielles.\n",
    "Complexité des Données : La diversité des caractéristiques et la nature non linéaire des relations entre elles offrent un terrain riche pour l'exploration et l'expérimentation.\"\"\")"
   ]
  },
  {
   "cell_type": "code",
   "execution_count": 940,
   "id": "8149f9ae-16f0-4cf7-bd8f-044186c709ac",
   "metadata": {},
   "outputs": [
    {
     "name": "stdout",
     "output_type": "stream",
     "text": [
      "Étapes Suivies Lors de la Réalisation du Projet\n",
      "Définition de l'Objectif : J'ai commencé par définir clairement l'objectif du projet : prédire la qualité du vin en fonction de ses caractéristiques.\n",
      "Collecte et Préparation des Données :\n",
      "J'ai téléchargé la base de données Wine Quality et l'ai chargée dans un environnement de travail.\n",
      "J'ai effectué une analyse exploratoire pour comprendre la structure des données, identifier les valeurs manquantes et vérifier les types de données.\n",
      "J'ai nettoyé les données en imputant les valeurs manquantes et en normalisant les caractéristiques lorsque nécessaire.\n",
      "Séparation des Données :\n",
      "J'ai divisé le jeu de données en ensembles d'entraînement et de test pour permettre une évaluation correcte du modèle.\n",
      "Choix du Modèle :\n",
      "J'ai envisagé plusieurs modèles de machine learning, notamment la régression logistique, les arbres de décision et les forêts aléatoires.\n",
      "J'ai choisi le modèle de forêt aléatoire en raison de sa robustesse face aux données non linéaires et à sa capacité à gérer les interactions complexes entre les caractéristiques.\n",
      "Ajustement des Hyperparamètres :\n",
      "J'ai utilisé GridSearchCV pour optimiser les hyperparamètres du modèle, ce qui est crucial pour maximiser la performance et éviter le surajustement.\n",
      "Évaluation et Interprétation des Résultats :\n",
      "J'ai évalué la performance du modèle sur l'ensemble de test en utilisant des métriques appropriées (précision, rappel, F-mesure) et en visualisant les résultats avec une matrice de confusion.\n",
      "Comment J'ai Décidé Quel Modèle Utiliser\n",
      "Nature des Données :\n",
      "Étant donné que la qualité du vin est influencée par plusieurs caractéristiques qui peuvent interagir de manière complexe, j'ai considéré des modèles capables de capturer ces relations, tels que les forêts aléatoires.\n",
      "Complexité et Interprétabilité :\n",
      "Bien que les réseaux de neurones soient puissants, j'ai opté pour un modèle comme la forêt aléatoire, qui offre un bon équilibre entre performance et interprétabilité. Cela permet de comprendre quels facteurs influencent le plus la qualité du vin.\n",
      "Performance Anticipée :\n",
      "Les forêts aléatoires sont réputées pour leur robustesse et leur performance sur divers jeux de données, ce qui m'a rassuré dans mon choix.\n",
      "Expérimentation :\n",
      "J'ai également testé d'autres modèles pour comparer leurs performances, mais les résultats initiaux avec les forêts aléatoires étaient prometteurs, ce qui a renforcé ma décision.\n",
      "Conclusion\n",
      "Ce projet a été une expérience d'apprentissage enrichissante pour les techniques de la data science. Les étapes suivies et les choix réalisés ont été guidés par une combinaison d'analyse des données, d'expérimentation et de compréhension des besoins du domaine. Cela m'a permis de développer un modèle utile et interprétable, tout en approfondissant mes compétences en machine learning.\n"
     ]
    }
   ],
   "source": [
    "print(\"\"\"Étapes Suivies Lors de la Réalisation du Projet\n",
    "Définition de l'Objectif : J'ai commencé par définir clairement l'objectif du projet : prédire la qualité du vin en fonction de ses caractéristiques.\n",
    "Collecte et Préparation des Données :\n",
    "J'ai téléchargé la base de données Wine Quality et l'ai chargée dans un environnement de travail.\n",
    "J'ai effectué une analyse exploratoire pour comprendre la structure des données, identifier les valeurs manquantes et vérifier les types de données.\n",
    "J'ai nettoyé les données en imputant les valeurs manquantes et en normalisant les caractéristiques lorsque nécessaire.\n",
    "Séparation des Données :\n",
    "J'ai divisé le jeu de données en ensembles d'entraînement et de test pour permettre une évaluation correcte du modèle.\n",
    "Choix du Modèle :\n",
    "J'ai envisagé plusieurs modèles de machine learning, notamment la régression logistique, les arbres de décision et les forêts aléatoires.\n",
    "J'ai choisi le modèle de forêt aléatoire en raison de sa robustesse face aux données non linéaires et à sa capacité à gérer les interactions complexes entre les caractéristiques.\n",
    "Ajustement des Hyperparamètres :\n",
    "J'ai utilisé GridSearchCV pour optimiser les hyperparamètres du modèle, ce qui est crucial pour maximiser la performance et éviter le surajustement.\n",
    "Évaluation et Interprétation des Résultats :\n",
    "J'ai évalué la performance du modèle sur l'ensemble de test en utilisant des métriques appropriées (précision, rappel, F-mesure) et en visualisant les résultats avec une matrice de confusion.\n",
    "Comment J'ai Décidé Quel Modèle Utiliser\n",
    "Nature des Données :\n",
    "Étant donné que la qualité du vin est influencée par plusieurs caractéristiques qui peuvent interagir de manière complexe, j'ai considéré des modèles capables de capturer ces relations, tels que les forêts aléatoires.\n",
    "Complexité et Interprétabilité :\n",
    "Bien que les réseaux de neurones soient puissants, j'ai opté pour un modèle comme la forêt aléatoire, qui offre un bon équilibre entre performance et interprétabilité. Cela permet de comprendre quels facteurs influencent le plus la qualité du vin.\n",
    "Performance Anticipée :\n",
    "Les forêts aléatoires sont réputées pour leur robustesse et leur performance sur divers jeux de données, ce qui m'a rassuré dans mon choix.\n",
    "Expérimentation :\n",
    "J'ai également testé d'autres modèles pour comparer leurs performances, mais les résultats initiaux avec les forêts aléatoires étaient prometteurs, ce qui a renforcé ma décision.\n",
    "Conclusion\n",
    "Ce projet a été une expérience d'apprentissage enrichissante pour les techniques de la data science. Les étapes suivies et les choix réalisés ont été guidés par une combinaison d'analyse des données, d'expérimentation et de compréhension des besoins du domaine. Cela m'a permis de développer un modèle utile et interprétable, tout en approfondissant mes compétences en machine learning.\"\"\")"
   ]
  },
  {
   "cell_type": "code",
   "execution_count": null,
   "id": "3428e0d5-30ef-4d83-8228-15c86c524074",
   "metadata": {},
   "outputs": [],
   "source": []
  }
 ],
 "metadata": {
  "kernelspec": {
   "display_name": "Python 3 (ipykernel)",
   "language": "python",
   "name": "python3"
  },
  "language_info": {
   "codemirror_mode": {
    "name": "ipython",
    "version": 3
   },
   "file_extension": ".py",
   "mimetype": "text/x-python",
   "name": "python",
   "nbconvert_exporter": "python",
   "pygments_lexer": "ipython3",
   "version": "3.12.7"
  }
 },
 "nbformat": 4,
 "nbformat_minor": 5
}
